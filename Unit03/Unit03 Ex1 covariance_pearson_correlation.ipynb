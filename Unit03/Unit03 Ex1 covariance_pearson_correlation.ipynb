{
  "cells": [
    {
      "cell_type": "markdown",
      "metadata": {
        "id": "view-in-github",
        "colab_type": "text"
      },
      "source": [
        "<a href=\"https://colab.research.google.com/github/jaco-uoeo/ml-artefact/blob/main/Unit03/Unit03%20Ex1%20covariance_pearson_correlation.ipynb\" target=\"_parent\"><img src=\"https://colab.research.google.com/assets/colab-badge.svg\" alt=\"Open In Colab\"/></a>"
      ]
    },
    {
      "cell_type": "code",
      "execution_count": 74,
      "metadata": {
        "id": "aasbCPfRcTe9"
      },
      "outputs": [],
      "source": [
        "# calculate the Pearson's correlation between two variables\n",
        "\n",
        "from numpy import mean\n",
        "from numpy import std\n",
        "from numpy import cov\n",
        "from numpy.random import randn\n",
        "from numpy.random import seed\n",
        "from matplotlib import pyplot as plt\n",
        "import seaborn as sns\n",
        "\n",
        "import ipywidgets as widgets\n",
        "from IPython.display import display\n",
        "\n",
        "from scipy.stats import pearsonr\n",
        "\n",
        "# seed random number generator\n",
        "seed(1)\n",
        "\n",
        "# prepare data\n",
        "data1 = 20 * randn(1000) + 100\n",
        "\n",
        "def plot_data(weight=20):\n",
        "\n",
        "  data2 = data1 + (weight * randn(1000) + 50)\n",
        "\n",
        "  # calculate covariance matrix\n",
        "  covariance = cov(data1, data2)\n",
        "\n",
        "  # calculate Pearson's correlation\n",
        "  corr, _ = pearsonr(data1, data2)\n",
        "\n",
        "  # plot\n",
        "  plt.scatter(data1, data2)\n",
        "  plt.show()\n",
        "\n",
        "  # summarize\n",
        "  print('\\n')\n",
        "  print('data1: mean=%.3f stdv=%.3f' % (mean(data1), std(data1)))\n",
        "  print('data2: mean=%.3f stdv=%.3f' % (mean(data2), std(data2)))\n",
        "  print('Covariance: %.3f' % covariance[0][1])\n",
        "  print('Pearsons correlation: %.3f' % corr)\n",
        "  print('\\n')"
      ]
    },
    {
      "cell_type": "code",
      "execution_count": 75,
      "metadata": {
        "id": "7lM2W37VcTe-",
        "outputId": "0c858d6c-d6c8-4bb9-e4be-754cc2f45809",
        "colab": {
          "base_uri": "https://localhost:8080/",
          "height": 696,
          "referenced_widgets": [
            "b5282d681421444cb1e0614bd7724adc",
            "0989104efc5f40559229aa094589e75a",
            "68dc5b7c612e4704b57d9a74ee9c2fb5",
            "b1c444ce9cbd4beabff0fd4295445f8d",
            "e8c4d620deca41b3a5595d8bbd5f7cca",
            "4793108d4d684e57b2f2a70d56313dcc",
            "dd5311f3561246d3a4545a2071eecc69"
          ]
        }
      },
      "outputs": [
        {
          "output_type": "display_data",
          "data": {
            "text/plain": [
              "interactive(children=(FloatSlider(value=20.0, description='weight', max=50.0, step=0.25), Output()), _dom_clas…"
            ],
            "application/vnd.jupyter.widget-view+json": {
              "version_major": 2,
              "version_minor": 0,
              "model_id": "b5282d681421444cb1e0614bd7724adc"
            }
          },
          "metadata": {}
        },
        {
          "output_type": "execute_result",
          "data": {
            "text/plain": [
              "<function __main__.plot_data(weight=20)>"
            ],
            "text/html": [
              "<div style=\"max-width:800px; border: 1px solid var(--colab-border-color);\"><style>\n",
              "      pre.function-repr-contents {\n",
              "        overflow-x: auto;\n",
              "        padding: 8px 12px;\n",
              "        max-height: 500px;\n",
              "      }\n",
              "\n",
              "      pre.function-repr-contents.function-repr-contents-collapsed {\n",
              "        cursor: pointer;\n",
              "        max-height: 100px;\n",
              "      }\n",
              "    </style>\n",
              "    <pre style=\"white-space: initial; background:\n",
              "         var(--colab-secondary-surface-color); padding: 8px 12px;\n",
              "         border-bottom: 1px solid var(--colab-border-color);\"><b>plot_data</b><br/>def plot_data(weight=20)</pre><pre class=\"function-repr-contents function-repr-contents-collapsed\" style=\"\"><a class=\"filepath\" style=\"display:none\" href=\"#\">/content/&lt;ipython-input-74-4192485d06da&gt;</a>&lt;no docstring&gt;</pre></div>"
            ]
          },
          "metadata": {},
          "execution_count": 75
        }
      ],
      "source": [
        "widgets.interact(plot_data, weight=(0,50,0.25))"
      ]
    }
  ],
  "metadata": {
    "kernelspec": {
      "display_name": ".venv",
      "language": "python",
      "name": "python3"
    },
    "language_info": {
      "codemirror_mode": {
        "name": "ipython",
        "version": 3
      },
      "file_extension": ".py",
      "mimetype": "text/x-python",
      "name": "python",
      "nbconvert_exporter": "python",
      "pygments_lexer": "ipython3",
      "version": "3.13.2"
    },
    "colab": {
      "provenance": [],
      "include_colab_link": true
    },
    "widgets": {
      "application/vnd.jupyter.widget-state+json": {
        "b5282d681421444cb1e0614bd7724adc": {
          "model_module": "@jupyter-widgets/controls",
          "model_name": "VBoxModel",
          "model_module_version": "1.5.0",
          "state": {
            "_dom_classes": [
              "widget-interact"
            ],
            "_model_module": "@jupyter-widgets/controls",
            "_model_module_version": "1.5.0",
            "_model_name": "VBoxModel",
            "_view_count": null,
            "_view_module": "@jupyter-widgets/controls",
            "_view_module_version": "1.5.0",
            "_view_name": "VBoxView",
            "box_style": "",
            "children": [
              "IPY_MODEL_0989104efc5f40559229aa094589e75a",
              "IPY_MODEL_68dc5b7c612e4704b57d9a74ee9c2fb5"
            ],
            "layout": "IPY_MODEL_b1c444ce9cbd4beabff0fd4295445f8d"
          }
        },
        "0989104efc5f40559229aa094589e75a": {
          "model_module": "@jupyter-widgets/controls",
          "model_name": "FloatSliderModel",
          "model_module_version": "1.5.0",
          "state": {
            "_dom_classes": [],
            "_model_module": "@jupyter-widgets/controls",
            "_model_module_version": "1.5.0",
            "_model_name": "FloatSliderModel",
            "_view_count": null,
            "_view_module": "@jupyter-widgets/controls",
            "_view_module_version": "1.5.0",
            "_view_name": "FloatSliderView",
            "continuous_update": true,
            "description": "weight",
            "description_tooltip": null,
            "disabled": false,
            "layout": "IPY_MODEL_e8c4d620deca41b3a5595d8bbd5f7cca",
            "max": 50,
            "min": 0,
            "orientation": "horizontal",
            "readout": true,
            "readout_format": ".2f",
            "step": 0.25,
            "style": "IPY_MODEL_4793108d4d684e57b2f2a70d56313dcc",
            "value": 50
          }
        },
        "68dc5b7c612e4704b57d9a74ee9c2fb5": {
          "model_module": "@jupyter-widgets/output",
          "model_name": "OutputModel",
          "model_module_version": "1.0.0",
          "state": {
            "_dom_classes": [],
            "_model_module": "@jupyter-widgets/output",
            "_model_module_version": "1.0.0",
            "_model_name": "OutputModel",
            "_view_count": null,
            "_view_module": "@jupyter-widgets/output",
            "_view_module_version": "1.0.0",
            "_view_name": "OutputView",
            "layout": "IPY_MODEL_dd5311f3561246d3a4545a2071eecc69",
            "msg_id": "",
            "outputs": [
              {
                "output_type": "display_data",
                "data": {
                  "text/plain": "<Figure size 640x480 with 1 Axes>",
                  "image/png": "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\n"
                },
                "metadata": {}
              },
              {
                "output_type": "stream",
                "name": "stdout",
                "text": [
                  "\n",
                  "\n",
                  "data1: mean=100.776 stdv=19.620\n",
                  "data2: mean=147.613 stdv=53.992\n",
                  "Covariance: 346.260\n",
                  "Pearsons correlation: 0.327\n",
                  "\n",
                  "\n"
                ]
              }
            ]
          }
        },
        "b1c444ce9cbd4beabff0fd4295445f8d": {
          "model_module": "@jupyter-widgets/base",
          "model_name": "LayoutModel",
          "model_module_version": "1.2.0",
          "state": {
            "_model_module": "@jupyter-widgets/base",
            "_model_module_version": "1.2.0",
            "_model_name": "LayoutModel",
            "_view_count": null,
            "_view_module": "@jupyter-widgets/base",
            "_view_module_version": "1.2.0",
            "_view_name": "LayoutView",
            "align_content": null,
            "align_items": null,
            "align_self": null,
            "border": null,
            "bottom": null,
            "display": null,
            "flex": null,
            "flex_flow": null,
            "grid_area": null,
            "grid_auto_columns": null,
            "grid_auto_flow": null,
            "grid_auto_rows": null,
            "grid_column": null,
            "grid_gap": null,
            "grid_row": null,
            "grid_template_areas": null,
            "grid_template_columns": null,
            "grid_template_rows": null,
            "height": null,
            "justify_content": null,
            "justify_items": null,
            "left": null,
            "margin": null,
            "max_height": null,
            "max_width": null,
            "min_height": null,
            "min_width": null,
            "object_fit": null,
            "object_position": null,
            "order": null,
            "overflow": null,
            "overflow_x": null,
            "overflow_y": null,
            "padding": null,
            "right": null,
            "top": null,
            "visibility": null,
            "width": null
          }
        },
        "e8c4d620deca41b3a5595d8bbd5f7cca": {
          "model_module": "@jupyter-widgets/base",
          "model_name": "LayoutModel",
          "model_module_version": "1.2.0",
          "state": {
            "_model_module": "@jupyter-widgets/base",
            "_model_module_version": "1.2.0",
            "_model_name": "LayoutModel",
            "_view_count": null,
            "_view_module": "@jupyter-widgets/base",
            "_view_module_version": "1.2.0",
            "_view_name": "LayoutView",
            "align_content": null,
            "align_items": null,
            "align_self": null,
            "border": null,
            "bottom": null,
            "display": null,
            "flex": null,
            "flex_flow": null,
            "grid_area": null,
            "grid_auto_columns": null,
            "grid_auto_flow": null,
            "grid_auto_rows": null,
            "grid_column": null,
            "grid_gap": null,
            "grid_row": null,
            "grid_template_areas": null,
            "grid_template_columns": null,
            "grid_template_rows": null,
            "height": null,
            "justify_content": null,
            "justify_items": null,
            "left": null,
            "margin": null,
            "max_height": null,
            "max_width": null,
            "min_height": null,
            "min_width": null,
            "object_fit": null,
            "object_position": null,
            "order": null,
            "overflow": null,
            "overflow_x": null,
            "overflow_y": null,
            "padding": null,
            "right": null,
            "top": null,
            "visibility": null,
            "width": null
          }
        },
        "4793108d4d684e57b2f2a70d56313dcc": {
          "model_module": "@jupyter-widgets/controls",
          "model_name": "SliderStyleModel",
          "model_module_version": "1.5.0",
          "state": {
            "_model_module": "@jupyter-widgets/controls",
            "_model_module_version": "1.5.0",
            "_model_name": "SliderStyleModel",
            "_view_count": null,
            "_view_module": "@jupyter-widgets/base",
            "_view_module_version": "1.2.0",
            "_view_name": "StyleView",
            "description_width": "",
            "handle_color": null
          }
        },
        "dd5311f3561246d3a4545a2071eecc69": {
          "model_module": "@jupyter-widgets/base",
          "model_name": "LayoutModel",
          "model_module_version": "1.2.0",
          "state": {
            "_model_module": "@jupyter-widgets/base",
            "_model_module_version": "1.2.0",
            "_model_name": "LayoutModel",
            "_view_count": null,
            "_view_module": "@jupyter-widgets/base",
            "_view_module_version": "1.2.0",
            "_view_name": "LayoutView",
            "align_content": null,
            "align_items": null,
            "align_self": null,
            "border": null,
            "bottom": null,
            "display": null,
            "flex": null,
            "flex_flow": null,
            "grid_area": null,
            "grid_auto_columns": null,
            "grid_auto_flow": null,
            "grid_auto_rows": null,
            "grid_column": null,
            "grid_gap": null,
            "grid_row": null,
            "grid_template_areas": null,
            "grid_template_columns": null,
            "grid_template_rows": null,
            "height": null,
            "justify_content": null,
            "justify_items": null,
            "left": null,
            "margin": null,
            "max_height": null,
            "max_width": null,
            "min_height": null,
            "min_width": null,
            "object_fit": null,
            "object_position": null,
            "order": null,
            "overflow": null,
            "overflow_x": null,
            "overflow_y": null,
            "padding": null,
            "right": null,
            "top": null,
            "visibility": null,
            "width": null
          }
        }
      }
    }
  },
  "nbformat": 4,
  "nbformat_minor": 0
}