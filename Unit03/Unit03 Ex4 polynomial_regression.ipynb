{
  "cells": [
    {
      "cell_type": "markdown",
      "metadata": {
        "id": "view-in-github",
        "colab_type": "text"
      },
      "source": [
        "<a href=\"https://colab.research.google.com/github/jaco-uoeo/ml-artefact/blob/main/Unit03/Unit03%20Ex4%20polynomial_regression.ipynb\" target=\"_parent\"><img src=\"https://colab.research.google.com/assets/colab-badge.svg\" alt=\"Open In Colab\"/></a>"
      ]
    },
    {
      "cell_type": "markdown",
      "metadata": {
        "id": "1SYsxQxXOF5d"
      },
      "source": [
        "18 cars passing a certain tollboth at different time of the day (x) with different speed (y)"
      ]
    },
    {
      "cell_type": "code",
      "execution_count": 1,
      "metadata": {
        "id": "ZFffkVjjOF5e",
        "outputId": "fd1de432-bce7-4cbb-a0d4-b3de41fbb12b",
        "colab": {
          "base_uri": "https://localhost:8080/",
          "height": 430
        }
      },
      "outputs": [
        {
          "output_type": "display_data",
          "data": {
            "text/plain": [
              "<Figure size 640x480 with 1 Axes>"
            ],
            "image/png": "[encoded data removed]"
          },
          "metadata": {}
        }
      ],
      "source": [
        "import numpy\n",
        "import matplotlib.pyplot as plt\n",
        "\n",
        "x = [1,2,3,5,6,7,8,9,10,12,13,14,15,16,18,19,21,22]\n",
        "y = [100,90,80,60,60,55,60,65,70,70,75,76,78,79,90,99,99,100]\n",
        "\n",
        "#NumPy has a method that lets us make a polynomial model\n",
        "mymodel = numpy.poly1d(numpy.polyfit(x, y, 3))\n",
        "\n",
        "#specify how the line will display, we start at position 1, and end at position 22\n",
        "myline = numpy.linspace(1, 22, 100)\n",
        "\n",
        "plt.scatter(x, y)\n",
        "plt.plot(myline, mymodel(myline))\n",
        "plt.show()"
      ]
    },
    {
      "cell_type": "markdown",
      "metadata": {
        "id": "st0Fo1AiOF5e"
      },
      "source": [
        "It is important to know how well the relationship between the values of the x- and y-axis is, if there are no relationship the polynomial regression can not be used to predict anything.\n",
        "\n",
        "The relationship is measured with a value called the r-squared.\n",
        "\n",
        "The r-squared value ranges from 0 to 1, where 0 means no relationship, and 1 means 100% related"
      ]
    },
    {
      "cell_type": "code",
      "execution_count": 2,
      "metadata": {
        "id": "2CuFE8R-OF5e",
        "outputId": "abbc84ec-53b3-4203-d9ee-c55fb9769781",
        "colab": {
          "base_uri": "https://localhost:8080/"
        }
      },
      "outputs": [
        {
          "output_type": "stream",
          "name": "stdout",
          "text": [
            "0.9432150416451026\n"
          ]
        }
      ],
      "source": [
        "import numpy\n",
        "from sklearn.metrics import r2_score\n",
        "\n",
        "x = [1,2,3,5,6,7,8,9,10,12,13,14,15,16,18,19,21,22]\n",
        "y = [100,90,80,60,60,55,60,65,70,70,75,76,78,79,90,99,99,100]\n",
        "\n",
        "mymodel = numpy.poly1d(numpy.polyfit(x, y, 3))\n",
        "\n",
        "print(r2_score(y, mymodel(x)))"
      ]
    },
    {
      "cell_type": "markdown",
      "metadata": {
        "id": "bcOnPrnDOF5f"
      },
      "source": [
        "## Predict Future Values"
      ]
    },
    {
      "cell_type": "markdown",
      "metadata": {
        "id": "MN-7LK-QOF5f"
      },
      "source": [
        "Let us try to predict the speed of a car that passes the tollbooth at around 17 P.M"
      ]
    },
    {
      "cell_type": "code",
      "execution_count": 13,
      "metadata": {
        "id": "xaaXwV5wOF5f"
      },
      "outputs": [],
      "source": [
        "import numpy\n",
        "from sklearn.metrics import r2_score\n",
        "\n",
        "import ipywidgets as widgets\n",
        "\n",
        "x = [1,2,3,5,6,7,8,9,10,12,13,14,15,16,18,19,21,22]\n",
        "y = [100,90,80,60,60,55,60,65,70,70,75,76,78,79,90,99,99,100]\n",
        "\n",
        "mymodel = numpy.poly1d(numpy.polyfit(x, y, 3))\n",
        "\n",
        "def predict(xv):\n",
        "  speed = mymodel(xv)\n",
        "\n",
        "  plt.scatter(x, y)\n",
        "  plt.plot(myline, mymodel(myline))\n",
        "\n",
        "  #show our predicted speed\n",
        "  plt.plot(xv, speed, 'ro')\n",
        "  plt.show()\n",
        "\n",
        "  print('\\nPredicted speed: %.3f\\n' % speed)\n"
      ]
    },
    {
      "cell_type": "code",
      "execution_count": 14,
      "metadata": {
        "id": "7rv-PI1vOF5f",
        "outputId": "be4ff7a0-00d8-49e8-c4ff-a2fb9e801aeb",
        "colab": {
          "base_uri": "https://localhost:8080/",
          "height": 604,
          "referenced_widgets": [
            "6562a98255aa4217ba0897d7975d9f10",
            "21ebbbfd37d845af8a53994d8adf5547",
            "88260cfd597f40b1a4ee1680c8cff970",
            "725f222488a942828bc06a4c98cecffd",
            "231dbb3fabd34b3cb26c0fecc083832b",
            "3eef9fcd9f4f4d3b8671e5ac8ac07863",
            "228299b7d9a8490787ee7c28e411e886"
          ]
        }
      },
      "outputs": [
        {
          "output_type": "display_data",
          "data": {
            "text/plain": [
              "interactive(children=(FloatSlider(value=10.0, description='xv', max=20.0, step=0.25), Output()), _dom_classes=…"
            ],
            "application/vnd.jupyter.widget-view+json": {
              "version_major": 2,
              "version_minor": 0,
              "model_id": "6562a98255aa4217ba0897d7975d9f10"
            }
          },
          "metadata": {}
        },
        {
          "output_type": "execute_result",
          "data": {
            "text/plain": [
              "<function __main__.predict(xv)>"
            ],
            "text/html": [
              "<div style=\"max-width:800px; border: 1px solid var(--colab-border-color);\"><style>\n",
              "      pre.function-repr-contents {\n",
              "        overflow-x: auto;\n",
              "        padding: 8px 12px;\n",
              "        max-height: 500px;\n",
              "      }\n",
              "\n",
              "      pre.function-repr-contents.function-repr-contents-collapsed {\n",
              "        cursor: pointer;\n",
              "        max-height: 100px;\n",
              "      }\n",
              "    </style>\n",
              "    <pre style=\"white-space: initial; background:\n",
              "         var(--colab-secondary-surface-color); padding: 8px 12px;\n",
              "         border-bottom: 1px solid var(--colab-border-color);\"><b>predict</b><br/>def predict(xv)</pre><pre class=\"function-repr-contents function-repr-contents-collapsed\" style=\"\"><a class=\"filepath\" style=\"display:none\" href=\"#\">/content/&lt;ipython-input-13-94947e40a2d7&gt;</a>&lt;no docstring&gt;</pre></div>"
            ]
          },
          "metadata": {},
          "execution_count": 14
        }
      ],
      "source": [
        "widgets.interact(predict,xv=(0,20,0.25))"
      ]
    }
  ],
  "metadata": {
    "kernelspec": {
      "display_name": ".venv",
      "language": "python",
      "name": "python3"
    },
    "language_info": {
      "codemirror_mode": {
        "name": "ipython",
        "version": 3
      },
      "file_extension": ".py",
      "mimetype": "text/x-python",
      "name": "python",
      "nbconvert_exporter": "python",
      "pygments_lexer": "ipython3",
      "version": "3.13.2"
    },
    "colab": {
      "provenance": [],
      "include_colab_link": true
    },
    "widgets": {
      "application/vnd.jupyter.widget-state+json": {
        "6562a98255aa4217ba0897d7975d9f10": {
          "model_module": "@jupyter-widgets/controls",
          "model_name": "VBoxModel",
          "model_module_version": "1.5.0",
          "state": {
            "_dom_classes": [
              "widget-interact"
            ],
            "_model_module": "@jupyter-widgets/controls",
            "_model_module_version": "1.5.0",
            "_model_name": "VBoxModel",
            "_view_count": null,
            "_view_module": "@jupyter-widgets/controls",
            "_view_module_version": "1.5.0",
            "_view_name": "VBoxView",
            "box_style": "",
            "children": [
              "IPY_MODEL_21ebbbfd37d845af8a53994d8adf5547",
              "IPY_MODEL_88260cfd597f40b1a4ee1680c8cff970"
            ],
            "layout": "IPY_MODEL_725f222488a942828bc06a4c98cecffd"
          }
        },
        "21ebbbfd37d845af8a53994d8adf5547": {
          "model_module": "@jupyter-widgets/controls",
          "model_name": "FloatSliderModel",
          "model_module_version": "1.5.0",
          "state": {
            "_dom_classes": [],
            "_model_module": "@jupyter-widgets/controls",
            "_model_module_version": "1.5.0",
            "_model_name": "FloatSliderModel",
            "_view_count": null,
            "_view_module": "@jupyter-widgets/controls",
            "_view_module_version": "1.5.0",
            "_view_name": "FloatSliderView",
            "continuous_update": true,
            "description": "xv",
            "description_tooltip": null,
            "disabled": false,
            "layout": "IPY_MODEL_231dbb3fabd34b3cb26c0fecc083832b",
            "max": 20,
            "min": 0,
            "orientation": "horizontal",
            "readout": true,
            "readout_format": ".2f",
            "step": 0.25,
            "style": "IPY_MODEL_3eef9fcd9f4f4d3b8671e5ac8ac07863",
            "value": 5.25
          }
        },
        "88260cfd597f40b1a4ee1680c8cff970": {
          "model_module": "@jupyter-widgets/output",
          "model_name": "OutputModel",
          "model_module_version": "1.0.0",
          "state": {
            "_dom_classes": [],
            "_model_module": "@jupyter-widgets/output",
            "_model_module_version": "1.0.0",
            "_model_name": "OutputModel",
            "_view_count": null,
            "_view_module": "@jupyter-widgets/output",
            "_view_module_version": "1.0.0",
            "_view_name": "OutputView",
            "layout": "IPY_MODEL_228299b7d9a8490787ee7c28e411e886",
            "msg_id": "",
            "outputs": [
              {
                "output_type": "display_data",
                "data": {
                  "text/plain": "<Figure size 640x480 with 1 Axes>",
                  "image/png": "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\n"
                },
                "metadata": {}
              },
              {
                "output_type": "stream",
                "name": "stdout",
                "text": [
                  "\n",
                  "Predicted speed: 64.830\n",
                  "\n"
                ]
              }
            ]
          }
        },
        "725f222488a942828bc06a4c98cecffd": {
          "model_module": "@jupyter-widgets/base",
          "model_name": "LayoutModel",
          "model_module_version": "1.2.0",
          "state": {
            "_model_module": "@jupyter-widgets/base",
            "_model_module_version": "1.2.0",
            "_model_name": "LayoutModel",
            "_view_count": null,
            "_view_module": "@jupyter-widgets/base",
            "_view_module_version": "1.2.0",
            "_view_name": "LayoutView",
            "align_content": null,
            "align_items": null,
            "align_self": null,
            "border": null,
            "bottom": null,
            "display": null,
            "flex": null,
            "flex_flow": null,
            "grid_area": null,
            "grid_auto_columns": null,
            "grid_auto_flow": null,
            "grid_auto_rows": null,
            "grid_column": null,
            "grid_gap": null,
            "grid_row": null,
            "grid_template_areas": null,
            "grid_template_columns": null,
            "grid_template_rows": null,
            "height": null,
            "justify_content": null,
            "justify_items": null,
            "left": null,
            "margin": null,
            "max_height": null,
            "max_width": null,
            "min_height": null,
            "min_width": null,
            "object_fit": null,
            "object_position": null,
            "order": null,
            "overflow": null,
            "overflow_x": null,
            "overflow_y": null,
            "padding": null,
            "right": null,
            "top": null,
            "visibility": null,
            "width": null
          }
        },
        "231dbb3fabd34b3cb26c0fecc083832b": {
          "model_module": "@jupyter-widgets/base",
          "model_name": "LayoutModel",
          "model_module_version": "1.2.0",
          "state": {
            "_model_module": "@jupyter-widgets/base",
            "_model_module_version": "1.2.0",
            "_model_name": "LayoutModel",
            "_view_count": null,
            "_view_module": "@jupyter-widgets/base",
            "_view_module_version": "1.2.0",
            "_view_name": "LayoutView",
            "align_content": null,
            "align_items": null,
            "align_self": null,
            "border": null,
            "bottom": null,
            "display": null,
            "flex": null,
            "flex_flow": null,
            "grid_area": null,
            "grid_auto_columns": null,
            "grid_auto_flow": null,
            "grid_auto_rows": null,
            "grid_column": null,
            "grid_gap": null,
            "grid_row": null,
            "grid_template_areas": null,
            "grid_template_columns": null,
            "grid_template_rows": null,
            "height": null,
            "justify_content": null,
            "justify_items": null,
            "left": null,
            "margin": null,
            "max_height": null,
            "max_width": null,
            "min_height": null,
            "min_width": null,
            "object_fit": null,
            "object_position": null,
            "order": null,
            "overflow": null,
            "overflow_x": null,
            "overflow_y": null,
            "padding": null,
            "right": null,
            "top": null,
            "visibility": null,
            "width": null
          }
        },
        "3eef9fcd9f4f4d3b8671e5ac8ac07863": {
          "model_module": "@jupyter-widgets/controls",
          "model_name": "SliderStyleModel",
          "model_module_version": "1.5.0",
          "state": {
            "_model_module": "@jupyter-widgets/controls",
            "_model_module_version": "1.5.0",
            "_model_name": "SliderStyleModel",
            "_view_count": null,
            "_view_module": "@jupyter-widgets/base",
            "_view_module_version": "1.2.0",
            "_view_name": "StyleView",
            "description_width": "",
            "handle_color": null
          }
        },
        "228299b7d9a8490787ee7c28e411e886": {
          "model_module": "@jupyter-widgets/base",
          "model_name": "LayoutModel",
          "model_module_version": "1.2.0",
          "state": {
            "_model_module": "@jupyter-widgets/base",
            "_model_module_version": "1.2.0",
            "_model_name": "LayoutModel",
            "_view_count": null,
            "_view_module": "@jupyter-widgets/base",
            "_view_module_version": "1.2.0",
            "_view_name": "LayoutView",
            "align_content": null,
            "align_items": null,
            "align_self": null,
            "border": null,
            "bottom": null,
            "display": null,
            "flex": null,
            "flex_flow": null,
            "grid_area": null,
            "grid_auto_columns": null,
            "grid_auto_flow": null,
            "grid_auto_rows": null,
            "grid_column": null,
            "grid_gap": null,
            "grid_row": null,
            "grid_template_areas": null,
            "grid_template_columns": null,
            "grid_template_rows": null,
            "height": null,
            "justify_content": null,
            "justify_items": null,
            "left": null,
            "margin": null,
            "max_height": null,
            "max_width": null,
            "min_height": null,
            "min_width": null,
            "object_fit": null,
            "object_position": null,
            "order": null,
            "overflow": null,
            "overflow_x": null,
            "overflow_y": null,
            "padding": null,
            "right": null,
            "top": null,
            "visibility": null,
            "width": null
          }
        }
      }
    }
  },
  "nbformat": 4,
  "nbformat_minor": 0
}