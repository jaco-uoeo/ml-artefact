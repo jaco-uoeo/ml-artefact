{
  "cells": [
    {
      "cell_type": "markdown",
      "metadata": {
        "id": "view-in-github",
        "colab_type": "text"
      },
      "source": [
        "<a href=\"https://colab.research.google.com/github/jaco-uoeo/ml-artefact/blob/main/Unit03/Unit03%20Ex4%20polynomial_regression.ipynb\" target=\"_parent\"><img src=\"https://colab.research.google.com/assets/colab-badge.svg\" alt=\"Open In Colab\"/></a>"
      ]
    },
    {
      "cell_type": "markdown",
      "metadata": {
        "id": "1SYsxQxXOF5d"
      },
      "source": [
        "18 cars passing a certain tollboth at different time of the day (x) with different speed (y)"
      ]
    },
    {
      "cell_type": "code",
      "execution_count": 2,
      "metadata": {
        "id": "ZFffkVjjOF5e",
        "outputId": "0396f7ec-50b5-4645-a540-92b347602b08",
        "colab": {
          "base_uri": "https://localhost:8080/",
          "height": 430
        }
      },
      "outputs": [
        {
          "output_type": "display_data",
          "data": {
            "text/plain": [
              "<Figure size 640x480 with 1 Axes>"
            ],
            "image/png": "[encoded data removed]"
          },
          "metadata": {}
        }
      ],
      "source": [
        "import numpy\n",
        "import matplotlib.pyplot as plt\n",
        "\n",
        "x = [1,2,3,5,6,7,8,9,10,12,13,14,15,16,18,19,21,22]\n",
        "y = [100,90,80,60,60,55,60,65,70,70,75,76,78,79,90,99,99,100]\n",
        "\n",
        "#NumPy has a method that lets us make a polynomial model\n",
        "mymodel = numpy.poly1d(numpy.polyfit(x, y, 3))\n",
        "\n",
        "#specify how the line will display, we start at position 1, and end at position 22\n",
        "myline = numpy.linspace(1, 22, 100)\n",
        "\n",
        "plt.scatter(x, y)\n",
        "plt.plot(myline, mymodel(myline))\n",
        "plt.show()"
      ]
    },
    {
      "cell_type": "markdown",
      "metadata": {
        "id": "st0Fo1AiOF5e"
      },
      "source": [
        "It is important to know how well the relationship between the values of the x- and y-axis is, if there are no relationship the polynomial regression can not be used to predict anything.\n",
        "\n",
        "The relationship is measured with a value called the r-squared.\n",
        "\n",
        "The r-squared value ranges from 0 to 1, where 0 means no relationship, and 1 means 100% related"
      ]
    },
    {
      "cell_type": "code",
      "execution_count": 3,
      "metadata": {
        "id": "2CuFE8R-OF5e",
        "outputId": "4bb73f51-1bf1-4f1f-efe6-49982f804aba",
        "colab": {
          "base_uri": "https://localhost:8080/"
        }
      },
      "outputs": [
        {
          "output_type": "stream",
          "name": "stdout",
          "text": [
            "0.9432150416451026\n"
          ]
        }
      ],
      "source": [
        "import numpy\n",
        "from sklearn.metrics import r2_score\n",
        "\n",
        "x = [1,2,3,5,6,7,8,9,10,12,13,14,15,16,18,19,21,22]\n",
        "y = [100,90,80,60,60,55,60,65,70,70,75,76,78,79,90,99,99,100]\n",
        "\n",
        "mymodel = numpy.poly1d(numpy.polyfit(x, y, 3))\n",
        "\n",
        "print(r2_score(y, mymodel(x)))"
      ]
    },
    {
      "cell_type": "markdown",
      "metadata": {
        "id": "bcOnPrnDOF5f"
      },
      "source": [
        "## Predict Future Values"
      ]
    },
    {
      "cell_type": "markdown",
      "metadata": {
        "id": "MN-7LK-QOF5f"
      },
      "source": [
        "Let us try to predict the speed of a car that passes the tollbooth at around 17 P.M"
      ]
    },
    {
      "cell_type": "code",
      "execution_count": 4,
      "metadata": {
        "id": "xaaXwV5wOF5f"
      },
      "outputs": [],
      "source": [
        "import numpy\n",
        "from sklearn.metrics import r2_score\n",
        "\n",
        "import ipywidgets as widgets\n",
        "\n",
        "x = [1,2,3,5,6,7,8,9,10,12,13,14,15,16,18,19,21,22]\n",
        "y = [100,90,80,60,60,55,60,65,70,70,75,76,78,79,90,99,99,100]\n",
        "\n",
        "mymodel = numpy.poly1d(numpy.polyfit(x, y, 3))\n",
        "\n",
        "def predict(xv):\n",
        "  speed = mymodel(xv)\n",
        "\n",
        "  plt.scatter(x, y)\n",
        "  plt.plot(myline, mymodel(myline))\n",
        "\n",
        "  #show our predicted speed\n",
        "  plt.plot(xv, speed, 'ro')\n",
        "  plt.show()\n",
        "\n",
        "  print('\\nPredicted speed: %.3f\\n' % speed)\n"
      ]
    },
    {
      "cell_type": "code",
      "execution_count": 5,
      "metadata": {
        "id": "7rv-PI1vOF5f",
        "outputId": "ffd95c42-eec4-4510-b434-06a1fa885a7d",
        "colab": {
          "base_uri": "https://localhost:8080/",
          "height": 604,
          "referenced_widgets": [
            "15fc90c1b0e7456ba375a2dad4234060",
            "fef23d71986b4bb3b4f668a1972a2ed0",
            "5e2b81728e4a4e27baa5f238c4f2c0d3",
            "550f3297cbc8420daf22b276e7090d37",
            "46e86d6f9c314d9a938721431031680e",
            "5e20ead3a0504d10a76e12d64c17048e",
            "55504d1f6112462398832bb9aa40de8d"
          ]
        }
      },
      "outputs": [
        {
          "output_type": "display_data",
          "data": {
            "text/plain": [
              "interactive(children=(FloatSlider(value=10.0, description='xv', max=20.0, step=0.25), Output()), _dom_classes=…"
            ],
            "application/vnd.jupyter.widget-view+json": {
              "version_major": 2,
              "version_minor": 0,
              "model_id": "15fc90c1b0e7456ba375a2dad4234060"
            }
          },
          "metadata": {}
        },
        {
          "output_type": "execute_result",
          "data": {
            "text/plain": [
              "<function __main__.predict(xv)>"
            ],
            "text/html": [
              "<div style=\"max-width:800px; border: 1px solid var(--colab-border-color);\"><style>\n",
              "      pre.function-repr-contents {\n",
              "        overflow-x: auto;\n",
              "        padding: 8px 12px;\n",
              "        max-height: 500px;\n",
              "      }\n",
              "\n",
              "      pre.function-repr-contents.function-repr-contents-collapsed {\n",
              "        cursor: pointer;\n",
              "        max-height: 100px;\n",
              "      }\n",
              "    </style>\n",
              "    <pre style=\"white-space: initial; background:\n",
              "         var(--colab-secondary-surface-color); padding: 8px 12px;\n",
              "         border-bottom: 1px solid var(--colab-border-color);\"><b>predict</b><br/>def predict(xv)</pre><pre class=\"function-repr-contents function-repr-contents-collapsed\" style=\"\"><a class=\"filepath\" style=\"display:none\" href=\"#\">/content/&lt;ipython-input-4-94947e40a2d7&gt;</a>&lt;no docstring&gt;</pre></div>"
            ]
          },
          "metadata": {},
          "execution_count": 5
        }
      ],
      "source": [
        "widgets.interact(predict,xv=(0,20,0.25))"
      ]
    }
  ],
  "metadata": {
    "kernelspec": {
      "display_name": ".venv",
      "language": "python",
      "name": "python3"
    },
    "language_info": {
      "codemirror_mode": {
        "name": "ipython",
        "version": 3
      },
      "file_extension": ".py",
      "mimetype": "text/x-python",
      "name": "python",
      "nbconvert_exporter": "python",
      "pygments_lexer": "ipython3",
      "version": "3.13.2"
    },
    "colab": {
      "provenance": [],
      "include_colab_link": true
    },
    "widgets": {
      "application/vnd.jupyter.widget-state+json": {
        "15fc90c1b0e7456ba375a2dad4234060": {
          "model_module": "@jupyter-widgets/controls",
          "model_name": "VBoxModel",
          "model_module_version": "1.5.0",
          "state": {
            "_dom_classes": [
              "widget-interact"
            ],
            "_model_module": "@jupyter-widgets/controls",
            "_model_module_version": "1.5.0",
            "_model_name": "VBoxModel",
            "_view_count": null,
            "_view_module": "@jupyter-widgets/controls",
            "_view_module_version": "1.5.0",
            "_view_name": "VBoxView",
            "box_style": "",
            "children": [
              "IPY_MODEL_fef23d71986b4bb3b4f668a1972a2ed0",
              "IPY_MODEL_5e2b81728e4a4e27baa5f238c4f2c0d3"
            ],
            "layout": "IPY_MODEL_550f3297cbc8420daf22b276e7090d37"
          }
        },
        "fef23d71986b4bb3b4f668a1972a2ed0": {
          "model_module": "@jupyter-widgets/controls",
          "model_name": "FloatSliderModel",
          "model_module_version": "1.5.0",
          "state": {
            "_dom_classes": [],
            "_model_module": "@jupyter-widgets/controls",
            "_model_module_version": "1.5.0",
            "_model_name": "FloatSliderModel",
            "_view_count": null,
            "_view_module": "@jupyter-widgets/controls",
            "_view_module_version": "1.5.0",
            "_view_name": "FloatSliderView",
            "continuous_update": true,
            "description": "xv",
            "description_tooltip": null,
            "disabled": false,
            "layout": "IPY_MODEL_46e86d6f9c314d9a938721431031680e",
            "max": 20,
            "min": 0,
            "orientation": "horizontal",
            "readout": true,
            "readout_format": ".2f",
            "step": 0.25,
            "style": "IPY_MODEL_5e20ead3a0504d10a76e12d64c17048e",
            "value": 10
          }
        },
        "5e2b81728e4a4e27baa5f238c4f2c0d3": {
          "model_module": "@jupyter-widgets/output",
          "model_name": "OutputModel",
          "model_module_version": "1.0.0",
          "state": {
            "_dom_classes": [],
            "_model_module": "@jupyter-widgets/output",
            "_model_module_version": "1.0.0",
            "_model_name": "OutputModel",
            "_view_count": null,
            "_view_module": "@jupyter-widgets/output",
            "_view_module_version": "1.0.0",
            "_view_name": "OutputView",
            "layout": "IPY_MODEL_55504d1f6112462398832bb9aa40de8d",
            "msg_id": "",
            "outputs": [
              {
                "output_type": "display_data",
                "data": {
                  "text/plain": "<Figure size 640x480 with 1 Axes>",
                  "image/png": "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\n"
                },
                "metadata": {}
              },
              {
                "output_type": "stream",
                "name": "stdout",
                "text": [
                  "\n",
                  "Predicted speed: 62.397\n",
                  "\n"
                ]
              }
            ]
          }
        },
        "550f3297cbc8420daf22b276e7090d37": {
          "model_module": "@jupyter-widgets/base",
          "model_name": "LayoutModel",
          "model_module_version": "1.2.0",
          "state": {
            "_model_module": "@jupyter-widgets/base",
            "_model_module_version": "1.2.0",
            "_model_name": "LayoutModel",
            "_view_count": null,
            "_view_module": "@jupyter-widgets/base",
            "_view_module_version": "1.2.0",
            "_view_name": "LayoutView",
            "align_content": null,
            "align_items": null,
            "align_self": null,
            "border": null,
            "bottom": null,
            "display": null,
            "flex": null,
            "flex_flow": null,
            "grid_area": null,
            "grid_auto_columns": null,
            "grid_auto_flow": null,
            "grid_auto_rows": null,
            "grid_column": null,
            "grid_gap": null,
            "grid_row": null,
            "grid_template_areas": null,
            "grid_template_columns": null,
            "grid_template_rows": null,
            "height": null,
            "justify_content": null,
            "justify_items": null,
            "left": null,
            "margin": null,
            "max_height": null,
            "max_width": null,
            "min_height": null,
            "min_width": null,
            "object_fit": null,
            "object_position": null,
            "order": null,
            "overflow": null,
            "overflow_x": null,
            "overflow_y": null,
            "padding": null,
            "right": null,
            "top": null,
            "visibility": null,
            "width": null
          }
        },
        "46e86d6f9c314d9a938721431031680e": {
          "model_module": "@jupyter-widgets/base",
          "model_name": "LayoutModel",
          "model_module_version": "1.2.0",
          "state": {
            "_model_module": "@jupyter-widgets/base",
            "_model_module_version": "1.2.0",
            "_model_name": "LayoutModel",
            "_view_count": null,
            "_view_module": "@jupyter-widgets/base",
            "_view_module_version": "1.2.0",
            "_view_name": "LayoutView",
            "align_content": null,
            "align_items": null,
            "align_self": null,
            "border": null,
            "bottom": null,
            "display": null,
            "flex": null,
            "flex_flow": null,
            "grid_area": null,
            "grid_auto_columns": null,
            "grid_auto_flow": null,
            "grid_auto_rows": null,
            "grid_column": null,
            "grid_gap": null,
            "grid_row": null,
            "grid_template_areas": null,
            "grid_template_columns": null,
            "grid_template_rows": null,
            "height": null,
            "justify_content": null,
            "justify_items": null,
            "left": null,
            "margin": null,
            "max_height": null,
            "max_width": null,
            "min_height": null,
            "min_width": null,
            "object_fit": null,
            "object_position": null,
            "order": null,
            "overflow": null,
            "overflow_x": null,
            "overflow_y": null,
            "padding": null,
            "right": null,
            "top": null,
            "visibility": null,
            "width": null
          }
        },
        "5e20ead3a0504d10a76e12d64c17048e": {
          "model_module": "@jupyter-widgets/controls",
          "model_name": "SliderStyleModel",
          "model_module_version": "1.5.0",
          "state": {
            "_model_module": "@jupyter-widgets/controls",
            "_model_module_version": "1.5.0",
            "_model_name": "SliderStyleModel",
            "_view_count": null,
            "_view_module": "@jupyter-widgets/base",
            "_view_module_version": "1.2.0",
            "_view_name": "StyleView",
            "description_width": "",
            "handle_color": null
          }
        },
        "55504d1f6112462398832bb9aa40de8d": {
          "model_module": "@jupyter-widgets/base",
          "model_name": "LayoutModel",
          "model_module_version": "1.2.0",
          "state": {
            "_model_module": "@jupyter-widgets/base",
            "_model_module_version": "1.2.0",
            "_model_name": "LayoutModel",
            "_view_count": null,
            "_view_module": "@jupyter-widgets/base",
            "_view_module_version": "1.2.0",
            "_view_name": "LayoutView",
            "align_content": null,
            "align_items": null,
            "align_self": null,
            "border": null,
            "bottom": null,
            "display": null,
            "flex": null,
            "flex_flow": null,
            "grid_area": null,
            "grid_auto_columns": null,
            "grid_auto_flow": null,
            "grid_auto_rows": null,
            "grid_column": null,
            "grid_gap": null,
            "grid_row": null,
            "grid_template_areas": null,
            "grid_template_columns": null,
            "grid_template_rows": null,
            "height": null,
            "justify_content": null,
            "justify_items": null,
            "left": null,
            "margin": null,
            "max_height": null,
            "max_width": null,
            "min_height": null,
            "min_width": null,
            "object_fit": null,
            "object_position": null,
            "order": null,
            "overflow": null,
            "overflow_x": null,
            "overflow_y": null,
            "padding": null,
            "right": null,
            "top": null,
            "visibility": null,
            "width": null
          }
        }
      }
    }
  },
  "nbformat": 4,
  "nbformat_minor": 0
}