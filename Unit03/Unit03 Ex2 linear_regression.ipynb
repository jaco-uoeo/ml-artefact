{
  "cells": [
    {
      "cell_type": "markdown",
      "metadata": {
        "id": "view-in-github",
        "colab_type": "text"
      },
      "source": [
        "<a href=\"https://colab.research.google.com/github/jaco-uoeo/ml-artefact/blob/main/Unit03/Unit03%20Ex2%20linear_regression.ipynb\" target=\"_parent\"><img src=\"https://colab.research.google.com/assets/colab-badge.svg\" alt=\"Open In Colab\"/></a>"
      ]
    },
    {
      "cell_type": "code",
      "execution_count": 72,
      "metadata": {
        "colab": {
          "base_uri": "https://localhost:8080/",
          "height": 448
        },
        "id": "vHHyadc42ZGy",
        "outputId": "b4bdb075-3c05-4a35-e2a2-57d03e2b68ec"
      },
      "outputs": [
        {
          "output_type": "stream",
          "name": "stdout",
          "text": [
            "Pearsons correlation: -0.759\n"
          ]
        },
        {
          "output_type": "display_data",
          "data": {
            "text/plain": [
              "<Figure size 640x480 with 1 Axes>"
            ],
            "image/png": "[encoded data removed]"
          },
          "metadata": {}
        }
      ],
      "source": [
        "import matplotlib.pyplot as plt\n",
        "from scipy import stats\n",
        "\n",
        "#Create the arrays that represent the values of the x and y axis\n",
        "x = [5,7,8,7,2,17,2,9,4,11,12,9,6]\n",
        "y = [99,86,87,88,111,86,103,87,94,78,77,85,86]\n",
        "\n",
        "#Execute a method that returns some important key values of Linear Regression\n",
        "slope, intercept, r, p, std_err = stats.linregress(x, y)\n",
        "\n",
        "# measure the correlation\n",
        "corr, _ = stats.pearsonr(x, y)\n",
        "print('Pearsons correlation: %.3f' % corr)\n",
        "\n",
        "#Create a function that uses the slope and intercept values to return a new value.\n",
        "#This new value represents where on the y-axis the corresponding x value will be placed\n",
        "def myfunc(x):\n",
        "  return slope * x + intercept\n",
        "\n",
        "#Run each value of the x array through the function. This will result in a new array with new values for the y-axis\n",
        "mymodel = list(map(myfunc, x))\n",
        "\n",
        "#Draw the original scatter plot & the line of linear regression\n",
        "plt.scatter(x, y)\n",
        "plt.plot(x, mymodel)\n",
        "plt.show()\n"
      ]
    },
    {
      "cell_type": "markdown",
      "metadata": {
        "id": "A2bt0Vo22ZGz"
      },
      "source": [
        "## Predict Future Values"
      ]
    },
    {
      "cell_type": "code",
      "execution_count": 117,
      "metadata": {
        "id": "omizvc8H2ZGz"
      },
      "outputs": [],
      "source": [
        "from scipy import stats\n",
        "import ipywidgets as widgets\n",
        "\n",
        "#Create the arrays that represent the values of the x and y axis\n",
        "x = [5,7,8,7,2,17,2,9,4,11,12,9,6]\n",
        "y = [99,86,87,88,111,86,103,87,94,78,77,85,86]\n",
        "\n",
        "slope, intercept, r, p, std_err = stats.linregress(x, y)\n",
        "\n",
        "def myfunc(xv=10):\n",
        "\n",
        "  speed = intercept + slope * xv\n",
        "\n",
        "  #Draw the original scatter plot & the line of linear regression\n",
        "  plt.scatter(x, y,)\n",
        "  plt.plot(x, mymodel)\n",
        "\n",
        "  # show our predicted speed\n",
        "  plt.plot(xv, speed, 'ro')\n",
        "  plt.show()\n",
        "\n",
        "  print('Predicted speed: %.3f' % speed)\n",
        "\n"
      ]
    },
    {
      "cell_type": "code",
      "execution_count": 118,
      "metadata": {
        "id": "c0im7UFX2ZG0",
        "outputId": "68080c54-d8cb-4eb0-ba10-04aba558faa5",
        "colab": {
          "base_uri": "https://localhost:8080/",
          "height": 480,
          "referenced_widgets": [
            "b2ec39dd23844918958a44ff7543fe73",
            "03d1a7ffc91d49aabec7fc41fa65803c",
            "0ad10263f58b4fb09b3836cd0fac9beb",
            "9703ff3cc0c24b40988f1117db1ac873",
            "4ffc9339afbe479fa9026fc5aacbfc01",
            "b8a357fbfc524c1db36270b0e22e0a94",
            "7a1972cfdd4c4dde9a1bf2f692f8e564"
          ]
        }
      },
      "outputs": [
        {
          "output_type": "display_data",
          "data": {
            "text/plain": [
              "interactive(children=(IntSlider(value=10, description='xv', max=16), Output()), _dom_classes=('widget-interact…"
            ],
            "application/vnd.jupyter.widget-view+json": {
              "version_major": 2,
              "version_minor": 0,
              "model_id": "b2ec39dd23844918958a44ff7543fe73"
            }
          },
          "metadata": {}
        }
      ],
      "source": [
        "widgets.interactive(myfunc,xv=(0,16,1))"
      ]
    }
  ],
  "metadata": {
    "kernelspec": {
      "display_name": ".venv",
      "language": "python",
      "name": "python3"
    },
    "language_info": {
      "codemirror_mode": {
        "name": "ipython",
        "version": 3
      },
      "file_extension": ".py",
      "mimetype": "text/x-python",
      "name": "python",
      "nbconvert_exporter": "python",
      "pygments_lexer": "ipython3",
      "version": "3.13.2"
    },
    "colab": {
      "provenance": [],
      "include_colab_link": true
    },
    "widgets": {
      "application/vnd.jupyter.widget-state+json": {
        "b2ec39dd23844918958a44ff7543fe73": {
          "model_module": "@jupyter-widgets/controls",
          "model_name": "VBoxModel",
          "model_module_version": "1.5.0",
          "state": {
            "_dom_classes": [
              "widget-interact"
            ],
            "_model_module": "@jupyter-widgets/controls",
            "_model_module_version": "1.5.0",
            "_model_name": "VBoxModel",
            "_view_count": null,
            "_view_module": "@jupyter-widgets/controls",
            "_view_module_version": "1.5.0",
            "_view_name": "VBoxView",
            "box_style": "",
            "children": [
              "IPY_MODEL_03d1a7ffc91d49aabec7fc41fa65803c",
              "IPY_MODEL_0ad10263f58b4fb09b3836cd0fac9beb"
            ],
            "layout": "IPY_MODEL_9703ff3cc0c24b40988f1117db1ac873"
          }
        },
        "03d1a7ffc91d49aabec7fc41fa65803c": {
          "model_module": "@jupyter-widgets/controls",
          "model_name": "IntSliderModel",
          "model_module_version": "1.5.0",
          "state": {
            "_dom_classes": [],
            "_model_module": "@jupyter-widgets/controls",
            "_model_module_version": "1.5.0",
            "_model_name": "IntSliderModel",
            "_view_count": null,
            "_view_module": "@jupyter-widgets/controls",
            "_view_module_version": "1.5.0",
            "_view_name": "IntSliderView",
            "continuous_update": true,
            "description": "xv",
            "description_tooltip": null,
            "disabled": false,
            "layout": "IPY_MODEL_4ffc9339afbe479fa9026fc5aacbfc01",
            "max": 16,
            "min": 0,
            "orientation": "horizontal",
            "readout": true,
            "readout_format": "d",
            "step": 1,
            "style": "IPY_MODEL_b8a357fbfc524c1db36270b0e22e0a94",
            "value": 9
          }
        },
        "0ad10263f58b4fb09b3836cd0fac9beb": {
          "model_module": "@jupyter-widgets/output",
          "model_name": "OutputModel",
          "model_module_version": "1.0.0",
          "state": {
            "_dom_classes": [],
            "_model_module": "@jupyter-widgets/output",
            "_model_module_version": "1.0.0",
            "_model_name": "OutputModel",
            "_view_count": null,
            "_view_module": "@jupyter-widgets/output",
            "_view_module_version": "1.0.0",
            "_view_name": "OutputView",
            "layout": "IPY_MODEL_7a1972cfdd4c4dde9a1bf2f692f8e564",
            "msg_id": "",
            "outputs": [
              {
                "output_type": "display_data",
                "data": {
                  "text/plain": "<Figure size 640x480 with 1 Axes>",
                  "image/png": "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\n"
                },
                "metadata": {}
              },
              {
                "output_type": "stream",
                "name": "stdout",
                "text": [
                  "Predicted speed: 87.344\n"
                ]
              }
            ]
          }
        },
        "9703ff3cc0c24b40988f1117db1ac873": {
          "model_module": "@jupyter-widgets/base",
          "model_name": "LayoutModel",
          "model_module_version": "1.2.0",
          "state": {
            "_model_module": "@jupyter-widgets/base",
            "_model_module_version": "1.2.0",
            "_model_name": "LayoutModel",
            "_view_count": null,
            "_view_module": "@jupyter-widgets/base",
            "_view_module_version": "1.2.0",
            "_view_name": "LayoutView",
            "align_content": null,
            "align_items": null,
            "align_self": null,
            "border": null,
            "bottom": null,
            "display": null,
            "flex": null,
            "flex_flow": null,
            "grid_area": null,
            "grid_auto_columns": null,
            "grid_auto_flow": null,
            "grid_auto_rows": null,
            "grid_column": null,
            "grid_gap": null,
            "grid_row": null,
            "grid_template_areas": null,
            "grid_template_columns": null,
            "grid_template_rows": null,
            "height": null,
            "justify_content": null,
            "justify_items": null,
            "left": null,
            "margin": null,
            "max_height": null,
            "max_width": null,
            "min_height": null,
            "min_width": null,
            "object_fit": null,
            "object_position": null,
            "order": null,
            "overflow": null,
            "overflow_x": null,
            "overflow_y": null,
            "padding": null,
            "right": null,
            "top": null,
            "visibility": null,
            "width": null
          }
        },
        "4ffc9339afbe479fa9026fc5aacbfc01": {
          "model_module": "@jupyter-widgets/base",
          "model_name": "LayoutModel",
          "model_module_version": "1.2.0",
          "state": {
            "_model_module": "@jupyter-widgets/base",
            "_model_module_version": "1.2.0",
            "_model_name": "LayoutModel",
            "_view_count": null,
            "_view_module": "@jupyter-widgets/base",
            "_view_module_version": "1.2.0",
            "_view_name": "LayoutView",
            "align_content": null,
            "align_items": null,
            "align_self": null,
            "border": null,
            "bottom": null,
            "display": null,
            "flex": null,
            "flex_flow": null,
            "grid_area": null,
            "grid_auto_columns": null,
            "grid_auto_flow": null,
            "grid_auto_rows": null,
            "grid_column": null,
            "grid_gap": null,
            "grid_row": null,
            "grid_template_areas": null,
            "grid_template_columns": null,
            "grid_template_rows": null,
            "height": null,
            "justify_content": null,
            "justify_items": null,
            "left": null,
            "margin": null,
            "max_height": null,
            "max_width": null,
            "min_height": null,
            "min_width": null,
            "object_fit": null,
            "object_position": null,
            "order": null,
            "overflow": null,
            "overflow_x": null,
            "overflow_y": null,
            "padding": null,
            "right": null,
            "top": null,
            "visibility": null,
            "width": null
          }
        },
        "b8a357fbfc524c1db36270b0e22e0a94": {
          "model_module": "@jupyter-widgets/controls",
          "model_name": "SliderStyleModel",
          "model_module_version": "1.5.0",
          "state": {
            "_model_module": "@jupyter-widgets/controls",
            "_model_module_version": "1.5.0",
            "_model_name": "SliderStyleModel",
            "_view_count": null,
            "_view_module": "@jupyter-widgets/base",
            "_view_module_version": "1.2.0",
            "_view_name": "StyleView",
            "description_width": "",
            "handle_color": null
          }
        },
        "7a1972cfdd4c4dde9a1bf2f692f8e564": {
          "model_module": "@jupyter-widgets/base",
          "model_name": "LayoutModel",
          "model_module_version": "1.2.0",
          "state": {
            "_model_module": "@jupyter-widgets/base",
            "_model_module_version": "1.2.0",
            "_model_name": "LayoutModel",
            "_view_count": null,
            "_view_module": "@jupyter-widgets/base",
            "_view_module_version": "1.2.0",
            "_view_name": "LayoutView",
            "align_content": null,
            "align_items": null,
            "align_self": null,
            "border": null,
            "bottom": null,
            "display": null,
            "flex": null,
            "flex_flow": null,
            "grid_area": null,
            "grid_auto_columns": null,
            "grid_auto_flow": null,
            "grid_auto_rows": null,
            "grid_column": null,
            "grid_gap": null,
            "grid_row": null,
            "grid_template_areas": null,
            "grid_template_columns": null,
            "grid_template_rows": null,
            "height": null,
            "justify_content": null,
            "justify_items": null,
            "left": null,
            "margin": null,
            "max_height": null,
            "max_width": null,
            "min_height": null,
            "min_width": null,
            "object_fit": null,
            "object_position": null,
            "order": null,
            "overflow": null,
            "overflow_x": null,
            "overflow_y": null,
            "padding": null,
            "right": null,
            "top": null,
            "visibility": null,
            "width": null
          }
        }
      }
    }
  },
  "nbformat": 4,
  "nbformat_minor": 0
}