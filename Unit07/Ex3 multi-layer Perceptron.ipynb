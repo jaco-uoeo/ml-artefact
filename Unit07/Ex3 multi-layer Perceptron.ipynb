{
  "cells": [
    {
      "cell_type": "markdown",
      "metadata": {
        "id": "view-in-github",
        "colab_type": "text"
      },
      "source": [
        "<a href=\"https://colab.research.google.com/github/jaco-uoeo/ml-artefact/blob/main/Unit07/Ex3%20multi-layer%20Perceptron.ipynb\" target=\"_parent\"><img src=\"https://colab.research.google.com/assets/colab-badge.svg\" alt=\"Open In Colab\"/></a>"
      ]
    },
    {
      "cell_type": "markdown",
      "metadata": {
        "id": "aOtPK30zBrQm"
      },
      "source": [
        "### Author: Dr Mike Lakoju"
      ]
    },
    {
      "cell_type": "markdown",
      "metadata": {
        "id": "63kTQV2lBrQm"
      },
      "source": [
        "![Screenshot%202021-01-25%20at%203.56.38%20pm.png](attachment:Screenshot%202021-01-25%20at%203.56.38%20pm.png)"
      ]
    },
    {
      "cell_type": "markdown",
      "metadata": {
        "id": "owBelaqvBrQm"
      },
      "source": [
        "    * If X is high, the value is approximately 1\n",
        "    * if X is small, the value is approximately 0"
      ]
    },
    {
      "cell_type": "markdown",
      "metadata": {
        "id": "MxziHQ-XBrQm"
      },
      "source": [
        "## Import Libraries"
      ]
    },
    {
      "cell_type": "code",
      "execution_count": 1,
      "metadata": {
        "id": "iHhuFSGhBrQn"
      },
      "outputs": [],
      "source": [
        "import numpy as np"
      ]
    },
    {
      "cell_type": "markdown",
      "metadata": {
        "id": "5-ue5i_EBrQn"
      },
      "source": [
        "## Define the Sigmoid Function"
      ]
    },
    {
      "cell_type": "code",
      "execution_count": 2,
      "metadata": {
        "id": "Qm6_Wb3uBrQn"
      },
      "outputs": [],
      "source": [
        "def sigmoid(sum_func):\n",
        "  return 1 / (1 + np.exp(-sum_func))"
      ]
    },
    {
      "cell_type": "code",
      "execution_count": 3,
      "metadata": {
        "id": "goHiqdzUBrQn",
        "outputId": "3c206637-79ba-4dd8-8146-685a9ebff42d",
        "colab": {
          "base_uri": "https://localhost:8080/"
        }
      },
      "outputs": [
        {
          "output_type": "execute_result",
          "data": {
            "text/plain": [
              "np.float64(0.5)"
            ]
          },
          "metadata": {},
          "execution_count": 3
        }
      ],
      "source": [
        "sigmoid(0)"
      ]
    },
    {
      "cell_type": "code",
      "execution_count": 4,
      "metadata": {
        "id": "Hy1aFp_0BrQn",
        "outputId": "249f0b29-2b5e-48af-b1c4-fba59e9c8a64",
        "colab": {
          "base_uri": "https://localhost:8080/"
        }
      },
      "outputs": [
        {
          "output_type": "execute_result",
          "data": {
            "text/plain": [
              "np.float64(7.38905609893065)"
            ]
          },
          "metadata": {},
          "execution_count": 4
        }
      ],
      "source": [
        "np.exp(2)"
      ]
    },
    {
      "cell_type": "code",
      "execution_count": 5,
      "metadata": {
        "id": "l_YarOIyBrQn",
        "outputId": "14196139-6283-4148-a45a-5e3bdfc91a4e",
        "colab": {
          "base_uri": "https://localhost:8080/"
        }
      },
      "outputs": [
        {
          "output_type": "execute_result",
          "data": {
            "text/plain": [
              "np.float64(2.718281828459045)"
            ]
          },
          "metadata": {},
          "execution_count": 5
        }
      ],
      "source": [
        "np.exp(1)"
      ]
    },
    {
      "cell_type": "code",
      "execution_count": 6,
      "metadata": {
        "id": "rvty4UafBrQo",
        "outputId": "033f3a2f-f6ef-4d7e-8af5-aba5a5df775a",
        "colab": {
          "base_uri": "https://localhost:8080/"
        }
      },
      "outputs": [
        {
          "output_type": "execute_result",
          "data": {
            "text/plain": [
              "np.float64(1.0)"
            ]
          },
          "metadata": {},
          "execution_count": 6
        }
      ],
      "source": [
        "sigmoid(40)"
      ]
    },
    {
      "cell_type": "code",
      "execution_count": 7,
      "metadata": {
        "id": "gDQw3NJoBrQo",
        "outputId": "9c27dc93-0f25-4ca3-dc72-3240ef72dc89",
        "colab": {
          "base_uri": "https://localhost:8080/"
        }
      },
      "outputs": [
        {
          "output_type": "execute_result",
          "data": {
            "text/plain": [
              "np.float64(1.2501528648238605e-09)"
            ]
          },
          "metadata": {},
          "execution_count": 7
        }
      ],
      "source": [
        "sigmoid(-20.5)"
      ]
    },
    {
      "cell_type": "markdown",
      "metadata": {
        "id": "aiXi-KGHBrQo"
      },
      "source": [
        "# Input Layer to Hidden Layer"
      ]
    },
    {
      "cell_type": "markdown",
      "metadata": {
        "id": "HnwVNjjlBrQo"
      },
      "source": [
        "![Screenshot%202021-01-26%20at%2011.39.16%20am.png](attachment:Screenshot%202021-01-26%20at%2011.39.16%20am.png)"
      ]
    },
    {
      "cell_type": "markdown",
      "metadata": {
        "id": "JyXune5BBrQo"
      },
      "source": [
        "### Define \"Inputs, outputs and weights\" as Numpy arrays"
      ]
    },
    {
      "cell_type": "markdown",
      "metadata": {
        "id": "jQM_X8LMBrQo"
      },
      "source": [
        "#### Inputs"
      ]
    },
    {
      "cell_type": "code",
      "execution_count": 8,
      "metadata": {
        "id": "ykCR1MhJBrQo"
      },
      "outputs": [],
      "source": [
        "inputs = np.array([[0,0],\n",
        "                   [0,1],\n",
        "                   [1,0],\n",
        "                   [1,1]])"
      ]
    },
    {
      "cell_type": "code",
      "execution_count": 9,
      "metadata": {
        "id": "O-gtzY9-BrQo",
        "outputId": "de29550f-2d0b-4b5d-c8a2-33f451976504",
        "colab": {
          "base_uri": "https://localhost:8080/"
        }
      },
      "outputs": [
        {
          "output_type": "execute_result",
          "data": {
            "text/plain": [
              "array([[0, 0],\n",
              "       [0, 1],\n",
              "       [1, 0],\n",
              "       [1, 1]])"
            ]
          },
          "metadata": {},
          "execution_count": 9
        }
      ],
      "source": [
        "inputs"
      ]
    },
    {
      "cell_type": "code",
      "execution_count": 10,
      "metadata": {
        "id": "6fQ_kpCwBrQo",
        "outputId": "43a4552e-4b86-44e1-bc63-3d60b1fc66b0",
        "colab": {
          "base_uri": "https://localhost:8080/"
        }
      },
      "outputs": [
        {
          "output_type": "execute_result",
          "data": {
            "text/plain": [
              "(4, 2)"
            ]
          },
          "metadata": {},
          "execution_count": 10
        }
      ],
      "source": [
        "inputs.shape"
      ]
    },
    {
      "cell_type": "markdown",
      "metadata": {
        "id": "SrvIk3kTBrQo"
      },
      "source": [
        "#### Outputs"
      ]
    },
    {
      "cell_type": "code",
      "execution_count": 11,
      "metadata": {
        "id": "zoIgZ5qSBrQo"
      },
      "outputs": [],
      "source": [
        "outputs = np.array([[0],\n",
        "                    [1],\n",
        "                    [1],\n",
        "                    [0]])"
      ]
    },
    {
      "cell_type": "code",
      "execution_count": 12,
      "metadata": {
        "id": "JZC2DQLmBrQo",
        "outputId": "5caaa53b-6615-4572-e6ee-520355c23682",
        "colab": {
          "base_uri": "https://localhost:8080/"
        }
      },
      "outputs": [
        {
          "output_type": "execute_result",
          "data": {
            "text/plain": [
              "(4, 1)"
            ]
          },
          "metadata": {},
          "execution_count": 12
        }
      ],
      "source": [
        "outputs.shape"
      ]
    },
    {
      "cell_type": "markdown",
      "metadata": {
        "id": "l0GtDbayBrQo"
      },
      "source": [
        "### Weights"
      ]
    },
    {
      "cell_type": "markdown",
      "metadata": {
        "id": "eSp3h2TvBrQo"
      },
      "source": [
        "#### These weights are for the connection between the inputs and the hidden layer"
      ]
    },
    {
      "cell_type": "code",
      "execution_count": 13,
      "metadata": {
        "id": "DADicxbeBrQo",
        "outputId": "2160ace5-8c13-4a62-e926-8dd5eceb68c5",
        "colab": {
          "base_uri": "https://localhost:8080/"
        }
      },
      "outputs": [
        {
          "output_type": "execute_result",
          "data": {
            "text/plain": [
              "(2, 3)"
            ]
          },
          "metadata": {},
          "execution_count": 13
        }
      ],
      "source": [
        "# First row holds the weights for x1, 2nd row contains the weights for x2\n",
        "\n",
        "weights_0 = np.array([[-0.424, -0.740, -0.961],\n",
        "                     [0.358, -0.577, -0.469]])\n",
        "weights_0.shape"
      ]
    },
    {
      "cell_type": "markdown",
      "metadata": {
        "id": "6qEVVV-TBrQp"
      },
      "source": [
        "#### These weights are for the connection between the  hidden layer and the output"
      ]
    },
    {
      "cell_type": "code",
      "execution_count": 14,
      "metadata": {
        "id": "0St-dwi0BrQp",
        "outputId": "6bfb5c55-674a-4a50-c098-7a29c0c14bcd",
        "colab": {
          "base_uri": "https://localhost:8080/"
        }
      },
      "outputs": [
        {
          "output_type": "execute_result",
          "data": {
            "text/plain": [
              "(3, 1)"
            ]
          },
          "metadata": {},
          "execution_count": 14
        }
      ],
      "source": [
        "weights_1 = np.array([[-0.017],\n",
        "                     [-0.893],\n",
        "                     [0.148]])\n",
        "weights_1.shape"
      ]
    },
    {
      "cell_type": "markdown",
      "metadata": {
        "id": "yYotpZXkBrQp"
      },
      "source": [
        "#### Epochs & Learning Rate"
      ]
    },
    {
      "cell_type": "code",
      "execution_count": 15,
      "metadata": {
        "id": "vHuYjwMtBrQp"
      },
      "outputs": [],
      "source": [
        "epochs = 100\n",
        "learning_rate = 0.3"
      ]
    },
    {
      "cell_type": "code",
      "execution_count": 16,
      "metadata": {
        "id": "M6PEaraIBrQp"
      },
      "outputs": [],
      "source": [
        "#for epoch in epochs:"
      ]
    },
    {
      "cell_type": "markdown",
      "metadata": {
        "id": "69PRpegfBrQp"
      },
      "source": [
        "Dealing with the first side\n",
        "![Screenshot%202021-01-26%20at%204.00.58%20pm.png](attachment:Screenshot%202021-01-26%20at%204.00.58%20pm.png)"
      ]
    },
    {
      "cell_type": "code",
      "execution_count": 17,
      "metadata": {
        "id": "sYACI1QrBrQp",
        "outputId": "96c410d0-e822-43c0-c721-04274022f349",
        "colab": {
          "base_uri": "https://localhost:8080/"
        }
      },
      "outputs": [
        {
          "output_type": "execute_result",
          "data": {
            "text/plain": [
              "array([[0, 0],\n",
              "       [0, 1],\n",
              "       [1, 0],\n",
              "       [1, 1]])"
            ]
          },
          "metadata": {},
          "execution_count": 17
        }
      ],
      "source": [
        "input_layer = inputs\n",
        "input_layer"
      ]
    },
    {
      "cell_type": "code",
      "execution_count": 18,
      "metadata": {
        "id": "Ek6R6IjHBrQp",
        "outputId": "dd733508-a759-49be-a9ba-c11d03dd7ce3",
        "colab": {
          "base_uri": "https://localhost:8080/"
        }
      },
      "outputs": [
        {
          "output_type": "execute_result",
          "data": {
            "text/plain": [
              "array([[ 0.   ,  0.   ,  0.   ],\n",
              "       [ 0.358, -0.577, -0.469],\n",
              "       [-0.424, -0.74 , -0.961],\n",
              "       [-0.066, -1.317, -1.43 ]])"
            ]
          },
          "metadata": {},
          "execution_count": 18
        }
      ],
      "source": [
        "# \"sum_synapse_0\" This holds the sum function total of weights for the hidden layer\n",
        "# For the Output: Each row holds the sum_func for each input data  [0,0,0 -> data 0,0],[0.358, -0.577, -0.469 --> 0,1]\n",
        "# The dot product does the matrix multiplication and also the sum\n",
        "\n",
        "sum_synapse_0 = np.dot(input_layer, weights_0)\n",
        "sum_synapse_0"
      ]
    },
    {
      "cell_type": "code",
      "execution_count": 19,
      "metadata": {
        "id": "N7vhKCvaBrQp",
        "outputId": "c583a4a9-3fbf-4865-bfdd-2670c26b556c",
        "colab": {
          "base_uri": "https://localhost:8080/"
        }
      },
      "outputs": [
        {
          "output_type": "execute_result",
          "data": {
            "text/plain": [
              "array([[0.5       , 0.5       , 0.5       ],\n",
              "       [0.5885562 , 0.35962319, 0.38485296],\n",
              "       [0.39555998, 0.32300414, 0.27667802],\n",
              "       [0.48350599, 0.21131785, 0.19309868]])"
            ]
          },
          "metadata": {},
          "execution_count": 19
        }
      ],
      "source": [
        "# Computing the Sigmoid function for the Hidden layer\n",
        "\n",
        "hidden_layer = sigmoid(sum_synapse_0)\n",
        "hidden_layer"
      ]
    },
    {
      "cell_type": "markdown",
      "metadata": {
        "id": "XTd1UFutBrQp"
      },
      "source": [
        "Dealing with the 2nd side\n",
        "\n",
        "![Screenshot%202021-01-26%20at%204.03.52%20pm.png](attachment:Screenshot%202021-01-26%20at%204.03.52%20pm.png)"
      ]
    },
    {
      "cell_type": "code",
      "execution_count": 20,
      "metadata": {
        "id": "xTA-jY7oBrQp",
        "outputId": "a8cb56a8-a942-41b9-f3b8-3b06c2846d01",
        "colab": {
          "base_uri": "https://localhost:8080/"
        }
      },
      "outputs": [
        {
          "output_type": "execute_result",
          "data": {
            "text/plain": [
              "array([[-0.017],\n",
              "       [-0.893],\n",
              "       [ 0.148]])"
            ]
          },
          "metadata": {},
          "execution_count": 20
        }
      ],
      "source": [
        "weights_1"
      ]
    },
    {
      "cell_type": "code",
      "execution_count": 21,
      "metadata": {
        "id": "Jhs-LAp_BrQp",
        "outputId": "c2a2b231-a460-4563-d5d4-aefa87f34eea",
        "colab": {
          "base_uri": "https://localhost:8080/"
        }
      },
      "outputs": [
        {
          "output_type": "execute_result",
          "data": {
            "text/plain": [
              "array([[-0.381     ],\n",
              "       [-0.27419072],\n",
              "       [-0.25421887],\n",
              "       [-0.16834784]])"
            ]
          },
          "metadata": {},
          "execution_count": 21
        }
      ],
      "source": [
        "# \"sum_synapse_1\" This holds the sum function total of weights for the output layer\n",
        "# For the Output: Each row holds the sum_func for each input data\n",
        "\n",
        "sum_synapse_1 = np.dot(hidden_layer, weights_1)\n",
        "sum_synapse_1"
      ]
    },
    {
      "cell_type": "code",
      "execution_count": 22,
      "metadata": {
        "id": "XWcAQ97kBrQp",
        "outputId": "30327209-ed93-4399-be16-cea47ebce527",
        "colab": {
          "base_uri": "https://localhost:8080/"
        }
      },
      "outputs": [
        {
          "output_type": "execute_result",
          "data": {
            "text/plain": [
              "array([[0.40588573],\n",
              "       [0.43187857],\n",
              "       [0.43678536],\n",
              "       [0.45801216]])"
            ]
          },
          "metadata": {},
          "execution_count": 22
        }
      ],
      "source": [
        "output_layer = sigmoid(sum_synapse_1)\n",
        "output_layer"
      ]
    },
    {
      "cell_type": "markdown",
      "metadata": {
        "id": "BXJko6ijBrQq"
      },
      "source": [
        "\n",
        "![Screenshot%202021-01-26%20at%205.36.22%20pm.png](attachment:Screenshot%202021-01-26%20at%205.36.22%20pm.png)"
      ]
    },
    {
      "cell_type": "code",
      "execution_count": 23,
      "metadata": {
        "id": "l_s8lGhlBrQq",
        "outputId": "c1f48a4a-d52f-475e-e16e-d3fad3d33ac3",
        "colab": {
          "base_uri": "https://localhost:8080/"
        }
      },
      "outputs": [
        {
          "output_type": "execute_result",
          "data": {
            "text/plain": [
              "array([[0],\n",
              "       [1],\n",
              "       [1],\n",
              "       [0]])"
            ]
          },
          "metadata": {},
          "execution_count": 23
        }
      ],
      "source": [
        "outputs"
      ]
    },
    {
      "cell_type": "code",
      "execution_count": 24,
      "metadata": {
        "id": "lxHW9NKXBrQq",
        "outputId": "b3d8c6ee-eda7-4e24-fcd8-1da3460b32aa",
        "colab": {
          "base_uri": "https://localhost:8080/"
        }
      },
      "outputs": [
        {
          "output_type": "execute_result",
          "data": {
            "text/plain": [
              "array([[0.40588573],\n",
              "       [0.43187857],\n",
              "       [0.43678536],\n",
              "       [0.45801216]])"
            ]
          },
          "metadata": {},
          "execution_count": 24
        }
      ],
      "source": [
        "output_layer"
      ]
    },
    {
      "cell_type": "code",
      "execution_count": 25,
      "metadata": {
        "id": "81r9-JzwBrQq",
        "outputId": "76023f18-71f4-4df4-af61-55616ff9c30f",
        "colab": {
          "base_uri": "https://localhost:8080/"
        }
      },
      "outputs": [
        {
          "output_type": "execute_result",
          "data": {
            "text/plain": [
              "array([[-0.40588573],\n",
              "       [ 0.56812143],\n",
              "       [ 0.56321464],\n",
              "       [-0.45801216]])"
            ]
          },
          "metadata": {},
          "execution_count": 25
        }
      ],
      "source": [
        "error_output_layer = outputs - output_layer\n",
        "error_output_layer"
      ]
    },
    {
      "cell_type": "code",
      "execution_count": 26,
      "metadata": {
        "id": "ESXsmXJlBrQq",
        "outputId": "dea84d66-09b2-4166-f91a-ae333872cf3a",
        "colab": {
          "base_uri": "https://localhost:8080/"
        }
      },
      "outputs": [
        {
          "output_type": "execute_result",
          "data": {
            "text/plain": [
              "np.float64(0.49880848923713045)"
            ]
          },
          "metadata": {},
          "execution_count": 26
        }
      ],
      "source": [
        "average_error = np.mean(abs(error_output_layer))\n",
        "average_error"
      ]
    },
    {
      "cell_type": "markdown",
      "metadata": {
        "id": "fhzsXLTsBrQq"
      },
      "source": [
        "Sigmoid Derivative\n",
        "![Screenshot%202021-01-27%20at%201.44.39%20am.png](attachment:Screenshot%202021-01-27%20at%201.44.39%20am.png)"
      ]
    },
    {
      "cell_type": "code",
      "execution_count": 27,
      "metadata": {
        "id": "fo2hzlGGBrQq"
      },
      "outputs": [],
      "source": [
        "def sigmoid_derivative(sigmoid):\n",
        "    return sigmoid * (1 - sigmoid)"
      ]
    },
    {
      "cell_type": "markdown",
      "metadata": {
        "id": "j7qQ_92kBrQq"
      },
      "source": [
        "# Delta output Calculation"
      ]
    },
    {
      "cell_type": "markdown",
      "metadata": {
        "id": "cMizDGoFBrQq"
      },
      "source": [
        "![Screenshot%202021-01-27%20at%2010.42.48%20am.png](attachment:Screenshot%202021-01-27%20at%2010.42.48%20am.png)"
      ]
    },
    {
      "cell_type": "code",
      "execution_count": 28,
      "metadata": {
        "id": "ZDkVl-TpBrQq",
        "outputId": "3254eced-4fe5-40e2-9a3b-0b3c8b152172",
        "colab": {
          "base_uri": "https://localhost:8080/"
        }
      },
      "outputs": [
        {
          "output_type": "execute_result",
          "data": {
            "text/plain": [
              "array([[0.40588573],\n",
              "       [0.43187857],\n",
              "       [0.43678536],\n",
              "       [0.45801216]])"
            ]
          },
          "metadata": {},
          "execution_count": 28
        }
      ],
      "source": [
        "# output_layer holds the results of our application of the sigmoid, computed above\n",
        "\n",
        "output_layer"
      ]
    },
    {
      "cell_type": "code",
      "execution_count": 29,
      "metadata": {
        "id": "OUH68mDUBrQq",
        "outputId": "b8733323-afde-49f0-c0b3-a7cf9ef3b23b",
        "colab": {
          "base_uri": "https://localhost:8080/"
        }
      },
      "outputs": [
        {
          "output_type": "execute_result",
          "data": {
            "text/plain": [
              "array([[0.2411425 ],\n",
              "       [0.24535947],\n",
              "       [0.24600391],\n",
              "       [0.24823702]])"
            ]
          },
          "metadata": {},
          "execution_count": 29
        }
      ],
      "source": [
        "# derivative_output is our Derivative of the activation function (sigmoid) which we have on the slide\n",
        "# each row is for each instance of our input dataset\n",
        "\n",
        "derivative_output = sigmoid_derivative(output_layer)\n",
        "derivative_output"
      ]
    },
    {
      "cell_type": "code",
      "execution_count": 30,
      "metadata": {
        "id": "iNe226-BBrQq",
        "outputId": "83412cc0-f4d3-4dad-fcb1-f2b12cb3f933",
        "colab": {
          "base_uri": "https://localhost:8080/"
        }
      },
      "outputs": [
        {
          "output_type": "execute_result",
          "data": {
            "text/plain": [
              "array([[-0.40588573],\n",
              "       [ 0.56812143],\n",
              "       [ 0.56321464],\n",
              "       [-0.45801216]])"
            ]
          },
          "metadata": {},
          "execution_count": 30
        }
      ],
      "source": [
        "error_output_layer"
      ]
    },
    {
      "cell_type": "code",
      "execution_count": 31,
      "metadata": {
        "id": "cZEDQ3wYBrQq",
        "outputId": "4a473c18-2fbc-4358-c56c-23c4ae0e8057",
        "colab": {
          "base_uri": "https://localhost:8080/"
        }
      },
      "outputs": [
        {
          "output_type": "execute_result",
          "data": {
            "text/plain": [
              "array([[-0.0978763 ],\n",
              "       [ 0.13939397],\n",
              "       [ 0.138553  ],\n",
              "       [-0.11369557]])"
            ]
          },
          "metadata": {},
          "execution_count": 31
        }
      ],
      "source": [
        "# Delta output\n",
        "# each row is for each instance of our input dataset\n",
        "\n",
        "delta_output = error_output_layer * derivative_output\n",
        "delta_output"
      ]
    },
    {
      "cell_type": "markdown",
      "metadata": {
        "id": "16usUIQXBrQr"
      },
      "source": [
        "# Delta calculations for the Hidden Layer\n",
        "\n",
        "![Screenshot%202021-01-27%20at%203.17.38%20pm.png](attachment:Screenshot%202021-01-27%20at%203.17.38%20pm.png)"
      ]
    },
    {
      "cell_type": "code",
      "execution_count": 32,
      "metadata": {
        "id": "5EGL02e4BrQr",
        "outputId": "c168cf6b-354d-4235-8112-418666c7d559",
        "colab": {
          "base_uri": "https://localhost:8080/"
        }
      },
      "outputs": [
        {
          "output_type": "execute_result",
          "data": {
            "text/plain": [
              "array([[-0.0978763 ],\n",
              "       [ 0.13939397],\n",
              "       [ 0.138553  ],\n",
              "       [-0.11369557]])"
            ]
          },
          "metadata": {},
          "execution_count": 32
        }
      ],
      "source": [
        "delta_output"
      ]
    },
    {
      "cell_type": "code",
      "execution_count": 33,
      "metadata": {
        "id": "Jb-S5eacBrQr",
        "outputId": "b53ccb81-52be-48ed-c0f0-7f6cd3ba2350",
        "colab": {
          "base_uri": "https://localhost:8080/"
        }
      },
      "outputs": [
        {
          "output_type": "execute_result",
          "data": {
            "text/plain": [
              "array([[-0.017],\n",
              "       [-0.893],\n",
              "       [ 0.148]])"
            ]
          },
          "metadata": {},
          "execution_count": 33
        }
      ],
      "source": [
        "weights_1"
      ]
    },
    {
      "cell_type": "markdown",
      "metadata": {
        "id": "ktV3hdQ-BrQr"
      },
      "source": [
        "#### NOTE THAT:\n",
        "    * Lets deal with this part first (Weight  * delta_output)\n",
        "    * Notice that we will get an error below becuase of the shape of the weights_1  (Transpose)"
      ]
    },
    {
      "cell_type": "code",
      "execution_count": 34,
      "metadata": {
        "id": "py6dfYsBBrQr",
        "outputId": "8074617f-b311-499d-e0b8-9b23687d0c05",
        "colab": {
          "base_uri": "https://localhost:8080/",
          "height": 147
        }
      },
      "outputs": [
        {
          "output_type": "error",
          "ename": "ValueError",
          "evalue": "shapes (4,1) and (3,1) not aligned: 1 (dim 1) != 3 (dim 0)",
          "traceback": [
            "\u001b[0;31m---------------------------------------------------------------------------\u001b[0m",
            "\u001b[0;31mValueError\u001b[0m                                Traceback (most recent call last)",
            "\u001b[0;32m<ipython-input-34-50b740e5a31c>\u001b[0m in \u001b[0;36m<cell line: 0>\u001b[0;34m()\u001b[0m\n\u001b[0;32m----> 1\u001b[0;31m \u001b[0mdelta_output_x_weight\u001b[0m \u001b[0;34m=\u001b[0m \u001b[0mdelta_output\u001b[0m\u001b[0;34m.\u001b[0m\u001b[0mdot\u001b[0m\u001b[0;34m(\u001b[0m\u001b[0mweights_1\u001b[0m\u001b[0;34m)\u001b[0m\u001b[0;34m\u001b[0m\u001b[0;34m\u001b[0m\u001b[0m\n\u001b[0m",
            "\u001b[0;31mValueError\u001b[0m: shapes (4,1) and (3,1) not aligned: 1 (dim 1) != 3 (dim 0)"
          ]
        }
      ],
      "source": [
        "delta_output_x_weight = delta_output.dot(weights_1)"
      ]
    },
    {
      "cell_type": "code",
      "execution_count": 39,
      "metadata": {
        "id": "l2rg7nC9BrQr",
        "outputId": "b5286c8b-61c1-4f56-c746-960aaa743463",
        "colab": {
          "base_uri": "https://localhost:8080/"
        }
      },
      "outputs": [
        {
          "output_type": "execute_result",
          "data": {
            "text/plain": [
              "(3, 1)"
            ]
          },
          "metadata": {},
          "execution_count": 39
        }
      ],
      "source": [
        "weights_1.shape"
      ]
    },
    {
      "cell_type": "code",
      "execution_count": 40,
      "metadata": {
        "id": "IODXscUnBrQr",
        "outputId": "62c5c29c-38f7-4f57-d318-e8291c2e2256",
        "colab": {
          "base_uri": "https://localhost:8080/"
        }
      },
      "outputs": [
        {
          "output_type": "execute_result",
          "data": {
            "text/plain": [
              "array([[-0.017, -0.893,  0.148]])"
            ]
          },
          "metadata": {},
          "execution_count": 40
        }
      ],
      "source": [
        "weights_1T = weights_1.T\n",
        "weights_1T"
      ]
    },
    {
      "cell_type": "code",
      "execution_count": 41,
      "metadata": {
        "id": "oTiyW4Q_BrQr",
        "outputId": "69865e42-8625-4e7c-fb51-4e8dc423d586",
        "colab": {
          "base_uri": "https://localhost:8080/"
        }
      },
      "outputs": [
        {
          "output_type": "execute_result",
          "data": {
            "text/plain": [
              "(1, 3)"
            ]
          },
          "metadata": {},
          "execution_count": 41
        }
      ],
      "source": [
        "weights_1T.shape"
      ]
    },
    {
      "cell_type": "markdown",
      "metadata": {
        "id": "V8wf0BtNBrQr"
      },
      "source": [
        "#### Each one of the weights will have to be multiplied by each delta_output for each data instance     \n",
        "       \n",
        "       array([[-0.017],\n",
        "             [-0.893],\n",
        "             [ 0.148]])"
      ]
    },
    {
      "cell_type": "code",
      "execution_count": 42,
      "metadata": {
        "id": "b9nw6DapBrQr",
        "outputId": "2ae72230-4f58-4a79-9435-4837a53f8248",
        "colab": {
          "base_uri": "https://localhost:8080/"
        }
      },
      "outputs": [
        {
          "output_type": "execute_result",
          "data": {
            "text/plain": [
              "array([[ 0.0016639 ,  0.08740354, -0.01448569],\n",
              "       [-0.0023697 , -0.12447882,  0.02063031],\n",
              "       [-0.0023554 , -0.12372783,  0.02050584],\n",
              "       [ 0.00193282,  0.10153015, -0.01682694]])"
            ]
          },
          "metadata": {},
          "execution_count": 42
        }
      ],
      "source": [
        "delta_output_x_weight = delta_output.dot(weights_1T)\n",
        "delta_output_x_weight"
      ]
    },
    {
      "cell_type": "markdown",
      "metadata": {
        "id": "CiRK_lpGBrQr"
      },
      "source": [
        "#### NOTE THAT:\n",
        "    * Now we need to deal with the last part of the equation   \n",
        "    * sigmoid_derivative * delta_output_x_weight"
      ]
    },
    {
      "cell_type": "code",
      "execution_count": 43,
      "metadata": {
        "id": "Gg8Y0Re1BrQr",
        "outputId": "0aa5785e-2313-470d-ca37-bde1e53e576c",
        "colab": {
          "base_uri": "https://localhost:8080/"
        }
      },
      "outputs": [
        {
          "output_type": "execute_result",
          "data": {
            "text/plain": [
              "array([[0.5       , 0.5       , 0.5       ],\n",
              "       [0.5885562 , 0.35962319, 0.38485296],\n",
              "       [0.39555998, 0.32300414, 0.27667802],\n",
              "       [0.48350599, 0.21131785, 0.19309868]])"
            ]
          },
          "metadata": {},
          "execution_count": 43
        }
      ],
      "source": [
        "hidden_layer"
      ]
    },
    {
      "cell_type": "code",
      "execution_count": 44,
      "metadata": {
        "id": "CRIQuDflBrQr",
        "outputId": "943ef515-a428-459b-88b0-c14dc06bfb08",
        "colab": {
          "base_uri": "https://localhost:8080/"
        }
      },
      "outputs": [
        {
          "output_type": "execute_result",
          "data": {
            "text/plain": [
              "array([[ 0.00041597,  0.02185088, -0.00362142],\n",
              "       [-0.00057384, -0.02866677,  0.00488404],\n",
              "       [-0.00056316, -0.02705587,  0.00410378],\n",
              "       [ 0.00048268,  0.01692128, -0.00262183]])"
            ]
          },
          "metadata": {},
          "execution_count": 44
        }
      ],
      "source": [
        "#  Each row in the output of delta_hidden_layer is for the data input values\n",
        "\n",
        "delta_hidden_layer = delta_output_x_weight * sigmoid_derivative(hidden_layer)\n",
        "delta_hidden_layer"
      ]
    },
    {
      "cell_type": "markdown",
      "metadata": {
        "id": "SdG3y1B4BrQr"
      },
      "source": [
        "![Screenshot%202021-01-28%20at%208.42.12%20am.png](attachment:Screenshot%202021-01-28%20at%208.42.12%20am.png)"
      ]
    },
    {
      "cell_type": "markdown",
      "metadata": {
        "id": "GwXlR-zOBrQr"
      },
      "source": [
        "#### We will deal with the (input * delta) first\n",
        "* The first column in \"hidden_layer\" holds  the activation value for the first neuron"
      ]
    },
    {
      "cell_type": "code",
      "execution_count": 45,
      "metadata": {
        "id": "E7cGel6YBrQr",
        "outputId": "cb24e1f6-2a53-4106-d430-b2b30c420a33",
        "colab": {
          "base_uri": "https://localhost:8080/"
        }
      },
      "outputs": [
        {
          "output_type": "execute_result",
          "data": {
            "text/plain": [
              "array([[0.5       , 0.5       , 0.5       ],\n",
              "       [0.5885562 , 0.35962319, 0.38485296],\n",
              "       [0.39555998, 0.32300414, 0.27667802],\n",
              "       [0.48350599, 0.21131785, 0.19309868]])"
            ]
          },
          "metadata": {},
          "execution_count": 45
        }
      ],
      "source": [
        "hidden_layer"
      ]
    },
    {
      "cell_type": "code",
      "execution_count": 46,
      "metadata": {
        "id": "RqT2exhYBrQr",
        "outputId": "7ae9a1cb-c8a9-4980-842d-63e9060a8de0",
        "colab": {
          "base_uri": "https://localhost:8080/"
        }
      },
      "outputs": [
        {
          "output_type": "execute_result",
          "data": {
            "text/plain": [
              "array([[-0.0978763 ],\n",
              "       [ 0.13939397],\n",
              "       [ 0.138553  ],\n",
              "       [-0.11369557]])"
            ]
          },
          "metadata": {},
          "execution_count": 46
        }
      ],
      "source": [
        "delta_output"
      ]
    },
    {
      "cell_type": "markdown",
      "metadata": {
        "id": "t0acUlZEBrQr"
      },
      "source": [
        "* We need to multiply the \"inputs\" by \"delta\" however, for the matrix multiplication we need to transpose the values in the hidden_layer, so we have all of them on one row for each neuron"
      ]
    },
    {
      "cell_type": "code",
      "execution_count": 47,
      "metadata": {
        "id": "s88AAji2BrQr",
        "outputId": "fb70cb92-b82a-4380-abd1-bb8c34fcb183",
        "colab": {
          "base_uri": "https://localhost:8080/"
        }
      },
      "outputs": [
        {
          "output_type": "execute_result",
          "data": {
            "text/plain": [
              "array([[0.5       , 0.5885562 , 0.39555998, 0.48350599],\n",
              "       [0.5       , 0.35962319, 0.32300414, 0.21131785],\n",
              "       [0.5       , 0.38485296, 0.27667802, 0.19309868]])"
            ]
          },
          "metadata": {},
          "execution_count": 47
        }
      ],
      "source": [
        "hidden_layerT = hidden_layer.T\n",
        "hidden_layerT"
      ]
    },
    {
      "cell_type": "code",
      "execution_count": 48,
      "metadata": {
        "id": "rNFmj0_RBrQr",
        "outputId": "393e1c25-334f-4325-dacd-508ddd64b29b",
        "colab": {
          "base_uri": "https://localhost:8080/"
        }
      },
      "outputs": [
        {
          "output_type": "execute_result",
          "data": {
            "text/plain": [
              "array([[0.03293657],\n",
              "       [0.02191844],\n",
              "       [0.02108814]])"
            ]
          },
          "metadata": {},
          "execution_count": 48
        }
      ],
      "source": [
        "input_x_delta1 = hidden_layerT.dot(delta_output)\n",
        "input_x_delta1"
      ]
    },
    {
      "cell_type": "markdown",
      "metadata": {
        "id": "G6ypoW5sBrQr"
      },
      "source": [
        "#### Let us now update the \"weights_1\""
      ]
    },
    {
      "cell_type": "code",
      "execution_count": 49,
      "metadata": {
        "id": "_lQ5muOjBrQr",
        "outputId": "cbf9f1aa-d044-409b-e1d6-46710f0152e7",
        "colab": {
          "base_uri": "https://localhost:8080/"
        }
      },
      "outputs": [
        {
          "output_type": "execute_result",
          "data": {
            "text/plain": [
              "array([[-0.00711903],\n",
              "       [-0.88642447],\n",
              "       [ 0.15432644]])"
            ]
          },
          "metadata": {},
          "execution_count": 49
        }
      ],
      "source": [
        "weights_1 = weights_1 + (input_x_delta1 * learning_rate)\n",
        "weights_1"
      ]
    },
    {
      "cell_type": "markdown",
      "metadata": {
        "id": "q1sk3OK0BrQs"
      },
      "source": [
        "![Screenshot%202021-01-28%20at%209.15.40%20am.png](attachment:Screenshot%202021-01-28%20at%209.15.40%20am.png)"
      ]
    },
    {
      "cell_type": "markdown",
      "metadata": {
        "id": "J9m-rxbbBrQs"
      },
      "source": [
        "## Dealing with the Hidden Layer to Input Layer\n",
        "![Screenshot%202021-01-28%20at%209.17.47%20am.png](attachment:Screenshot%202021-01-28%20at%209.17.47%20am.png)"
      ]
    },
    {
      "cell_type": "code",
      "execution_count": 50,
      "metadata": {
        "id": "I27wWrkaBrQs",
        "outputId": "97129fbe-fd4e-4544-a57c-0062123bfebc",
        "colab": {
          "base_uri": "https://localhost:8080/"
        }
      },
      "outputs": [
        {
          "output_type": "execute_result",
          "data": {
            "text/plain": [
              "array([[0, 0],\n",
              "       [0, 1],\n",
              "       [1, 0],\n",
              "       [1, 1]])"
            ]
          },
          "metadata": {},
          "execution_count": 50
        }
      ],
      "source": [
        "# First column is X1, and 2nd column is X2 (our input values )\n",
        "\n",
        "input_layer"
      ]
    },
    {
      "cell_type": "code",
      "execution_count": 51,
      "metadata": {
        "id": "FnYQOW6rBrQs",
        "outputId": "d96d3073-7645-48e9-a587-3dcaf8af41f0",
        "colab": {
          "base_uri": "https://localhost:8080/"
        }
      },
      "outputs": [
        {
          "output_type": "execute_result",
          "data": {
            "text/plain": [
              "array([[ 0.00041597,  0.02185088, -0.00362142],\n",
              "       [-0.00057384, -0.02866677,  0.00488404],\n",
              "       [-0.00056316, -0.02705587,  0.00410378],\n",
              "       [ 0.00048268,  0.01692128, -0.00262183]])"
            ]
          },
          "metadata": {},
          "execution_count": 51
        }
      ],
      "source": [
        "delta_hidden_layer"
      ]
    },
    {
      "cell_type": "code",
      "execution_count": 52,
      "metadata": {
        "id": "ITvFIBgVBrQs",
        "outputId": "e1e6254e-6610-4b27-863d-38fa9a8cb396",
        "colab": {
          "base_uri": "https://localhost:8080/"
        }
      },
      "outputs": [
        {
          "output_type": "execute_result",
          "data": {
            "text/plain": [
              "array([[0, 0, 1, 1],\n",
              "       [0, 1, 0, 1]])"
            ]
          },
          "metadata": {},
          "execution_count": 52
        }
      ],
      "source": [
        "# we need to transpose the values just as we did before\n",
        "\n",
        "input_layerT = input_layer.T\n",
        "input_layerT"
      ]
    },
    {
      "cell_type": "code",
      "execution_count": 53,
      "metadata": {
        "id": "OKZ3OkUqBrQs",
        "outputId": "1f142e35-7ba8-4586-8a97-a1b97777abcc",
        "colab": {
          "base_uri": "https://localhost:8080/"
        }
      },
      "outputs": [
        {
          "output_type": "execute_result",
          "data": {
            "text/plain": [
              "array([[-8.04778516e-05, -1.01345901e-02,  1.48194623e-03],\n",
              "       [-9.11603819e-05, -1.17454886e-02,  2.26221011e-03]])"
            ]
          },
          "metadata": {},
          "execution_count": 53
        }
      ],
      "source": [
        "input_x_delta0 = input_layerT.dot(delta_hidden_layer)\n",
        "input_x_delta0"
      ]
    },
    {
      "cell_type": "code",
      "execution_count": 54,
      "metadata": {
        "id": "S21ZzOebBrQs",
        "outputId": "143afa1b-8f13-436e-c34b-69022afb1b0c",
        "colab": {
          "base_uri": "https://localhost:8080/"
        }
      },
      "outputs": [
        {
          "output_type": "execute_result",
          "data": {
            "text/plain": [
              "array([[-0.42402414, -0.74304038, -0.96055542],\n",
              "       [ 0.35797265, -0.58052365, -0.46832134]])"
            ]
          },
          "metadata": {},
          "execution_count": 54
        }
      ],
      "source": [
        "weights_0 = weights_0 + (input_x_delta0 * learning_rate)\n",
        "weights_0"
      ]
    },
    {
      "cell_type": "markdown",
      "metadata": {
        "id": "HUJXE1nIBrQs"
      },
      "source": [
        "![Screenshot%202021-01-28%20at%209.24.48%20am.png](attachment:Screenshot%202021-01-28%20at%209.24.48%20am.png)"
      ]
    },
    {
      "cell_type": "markdown",
      "metadata": {
        "id": "xyjMIlyNBrQs"
      },
      "source": [
        "### So all the lines of code above, has allowed us to complete our first epoch. we will need to put all the code together so we can run multiple epochs"
      ]
    },
    {
      "cell_type": "markdown",
      "metadata": {
        "id": "LCFDjdykBrQs"
      },
      "source": [
        "# Complete Artificial Neural Network"
      ]
    },
    {
      "cell_type": "code",
      "execution_count": 55,
      "metadata": {
        "id": "CXzRAezZBrQs"
      },
      "outputs": [],
      "source": [
        "#Importing Numpy\n",
        "import numpy as np\n",
        "\n",
        "# This is the sigmoid Function\n",
        "def sigmoid(sum):\n",
        "  return 1 / (1 + np.exp(-sum))\n",
        "\n",
        "#This is the sigmoid derivative as used before\n",
        "def sigmoid_derivative(sigmoid):\n",
        "  return sigmoid * (1 - sigmoid)\n",
        "\n",
        "# Our input values\n",
        "inputs = np.array([[0,0],\n",
        "                   [0,1],\n",
        "                   [1,0],\n",
        "                   [1,1]])\n",
        "#Our output values\n",
        "outputs = np.array([[0],\n",
        "                    [1],\n",
        "                    [1],\n",
        "                    [0]])"
      ]
    },
    {
      "cell_type": "code",
      "execution_count": 60,
      "metadata": {
        "id": "5IQMRFm1BrQs"
      },
      "outputs": [],
      "source": [
        "weights_0 = np.array([[-0.424, -0.740, -0.961],\n",
        "                     [0.358, -0.577, -0.469]])\n",
        "\n",
        "weights_1 = np.array([[-0.017],\n",
        "                     [-0.893],\n",
        "                     [0.148]])"
      ]
    },
    {
      "cell_type": "markdown",
      "metadata": {
        "id": "2jI67triBrQs"
      },
      "source": [
        "### Initializing our weights with random values\n",
        "* <b>Note:</b> Multiplying the random number by 2 and subtracting by 1, allows us to have a mix of both positive and negative random numbers for the weights"
      ]
    },
    {
      "cell_type": "code",
      "execution_count": 57,
      "metadata": {
        "id": "6DPXr9G8BrQs"
      },
      "outputs": [],
      "source": [
        "weights_0 = 2 * np.random.random((2, 3)) - 1\n",
        "weights_1 = 2 * np.random.random((3, 1)) - 1"
      ]
    },
    {
      "cell_type": "code",
      "execution_count": 62,
      "metadata": {
        "id": "rJPdXwrnBrQs",
        "outputId": "f72f0151-df5a-4995-a3d2-a45f74f08401",
        "colab": {
          "base_uri": "https://localhost:8080/"
        }
      },
      "outputs": [
        {
          "output_type": "stream",
          "name": "stdout",
          "text": [
            "Epoch: 1 Error: 0.49880848923713045\n",
            "Epoch: 100001 Error: 0.04526291927049844\n",
            "Epoch: 200001 Error: 0.013595016117288182\n",
            "Epoch: 300001 Error: 0.009793595798675711\n"
          ]
        }
      ],
      "source": [
        "epochs = 400000\n",
        "learning_rate = 0.6\n",
        "error = []\n",
        "\n",
        "for epoch in range(epochs):\n",
        "  input_layer = inputs\n",
        "  sum_synapse0 = np.dot(input_layer, weights_0)\n",
        "  hidden_layer = sigmoid(sum_synapse0)\n",
        "\n",
        "  sum_synapse1 = np.dot(hidden_layer, weights_1)\n",
        "  output_layer = sigmoid(sum_synapse1)\n",
        "\n",
        "  error_output_layer = outputs - output_layer\n",
        "  average = np.mean(abs(error_output_layer))\n",
        "    #print after every specified range of the value\n",
        "  if epoch % 100000 == 0:\n",
        "    print('Epoch: ' + str(epoch + 1) + ' Error: ' + str(average))\n",
        "    error.append(average)\n",
        "\n",
        "  derivative_output = sigmoid_derivative(output_layer)\n",
        "  delta_output = error_output_layer * derivative_output\n",
        "\n",
        "  weights1T = weights_1.T\n",
        "  delta_output_weight = delta_output.dot(weights1T)\n",
        "  delta_hidden_layer = delta_output_weight * sigmoid_derivative(hidden_layer)\n",
        "\n",
        "  hidden_layerT = hidden_layer.T\n",
        "  input_x_delta1 = hidden_layerT.dot(delta_output)\n",
        "  weights_1 = weights_1 + (input_x_delta1 * learning_rate)\n",
        "\n",
        "  input_layerT = input_layer.T\n",
        "  input_x_delta0 = input_layerT.dot(delta_hidden_layer)\n",
        "  weights_0 = weights_0 + (input_x_delta0 * learning_rate)"
      ]
    },
    {
      "cell_type": "markdown",
      "metadata": {
        "id": "c2f6C_inBrQs"
      },
      "source": [
        "#### At this point after runing for 1million epochs you can see the value is very low."
      ]
    },
    {
      "cell_type": "code",
      "execution_count": 63,
      "metadata": {
        "id": "Pxg_XcuLBrQs",
        "outputId": "0fc3ba0a-260b-4145-b254-181d325cc0fd",
        "colab": {
          "base_uri": "https://localhost:8080/"
        }
      },
      "outputs": [
        {
          "output_type": "execute_result",
          "data": {
            "text/plain": [
              "0.9903290320690693"
            ]
          },
          "metadata": {},
          "execution_count": 63
        }
      ],
      "source": [
        "#1 million epochs with a learning rate of 0.3\n",
        "1 - 0.009670967930930745"
      ]
    },
    {
      "cell_type": "code",
      "execution_count": 64,
      "metadata": {
        "id": "nE3UnFn4BrQs",
        "outputId": "5fb8aeca-6e43-4579-aaae-770f5fc02460",
        "colab": {
          "base_uri": "https://localhost:8080/"
        }
      },
      "outputs": [
        {
          "output_type": "execute_result",
          "data": {
            "text/plain": [
              "0.9918079771904136"
            ]
          },
          "metadata": {},
          "execution_count": 64
        }
      ],
      "source": [
        "#after 400,000 epochs, with a learning rate of 0.6\n",
        "1- 0.008192022809586367"
      ]
    },
    {
      "cell_type": "markdown",
      "metadata": {
        "id": "XF7Ae9PmBrQs"
      },
      "source": [
        "# Let's visualize this result"
      ]
    },
    {
      "cell_type": "code",
      "execution_count": 65,
      "metadata": {
        "id": "oBxbGuCBBrQs"
      },
      "outputs": [],
      "source": [
        "import matplotlib.pyplot as plt\n"
      ]
    },
    {
      "cell_type": "code",
      "execution_count": 68,
      "metadata": {
        "id": "CiTVbUWnBrQs",
        "outputId": "9a48000f-7751-425e-935a-0a401bd2bb28",
        "colab": {
          "base_uri": "https://localhost:8080/",
          "height": 472
        }
      },
      "outputs": [
        {
          "output_type": "display_data",
          "data": {
            "text/plain": [
              "<Figure size 640x480 with 1 Axes>"
            ],
            "image/png": "[encoded data removed]"
          },
          "metadata": {}
        }
      ],
      "source": [
        "plt.xlabel('Number of Epochs')\n",
        "plt.ylabel('Error')\n",
        "plt.title('Plot showing results from Neural Network')\n",
        "plt.plot(error)\n",
        "plt.show()"
      ]
    },
    {
      "cell_type": "code",
      "execution_count": 69,
      "metadata": {
        "id": "2SKvfma-BrQs",
        "outputId": "8da13a36-6a2e-4392-bbe4-0ff691e7ef63",
        "colab": {
          "base_uri": "https://localhost:8080/",
          "height": 472
        }
      },
      "outputs": [
        {
          "output_type": "display_data",
          "data": {
            "text/plain": [
              "<Figure size 640x480 with 1 Axes>"
            ],
            "image/png": "[encoded data removed]"
          },
          "metadata": {}
        }
      ],
      "source": [
        "plt.xlabel('Number of Epochs')\n",
        "plt.ylabel('Error')\n",
        "plt.title('Plot showing results from Neural Network')\n",
        "plt.plot(error)\n",
        "plt.show()"
      ]
    },
    {
      "cell_type": "markdown",
      "metadata": {
        "id": "IMtaDQDrBrQs"
      },
      "source": [
        "#### Compearing the outputs and the predictions"
      ]
    },
    {
      "cell_type": "code",
      "execution_count": 70,
      "metadata": {
        "id": "1dlQVN2fBrQs",
        "outputId": "f49afd6f-af34-4f47-a1b4-86a14a3bc358",
        "colab": {
          "base_uri": "https://localhost:8080/"
        }
      },
      "outputs": [
        {
          "output_type": "execute_result",
          "data": {
            "text/plain": [
              "array([[0],\n",
              "       [1],\n",
              "       [1],\n",
              "       [0]])"
            ]
          },
          "metadata": {},
          "execution_count": 70
        }
      ],
      "source": [
        "outputs"
      ]
    },
    {
      "cell_type": "code",
      "execution_count": 71,
      "metadata": {
        "id": "A5L25pS4BrQt",
        "outputId": "b3822bd1-a9ce-47cd-ce56-8e79e036a6b8",
        "colab": {
          "base_uri": "https://localhost:8080/"
        }
      },
      "outputs": [
        {
          "output_type": "execute_result",
          "data": {
            "text/plain": [
              "array([[0.00876276],\n",
              "       [0.99310148],\n",
              "       [0.99310126],\n",
              "       [0.0096006 ]])"
            ]
          },
          "metadata": {},
          "execution_count": 71
        }
      ],
      "source": [
        "output_layer"
      ]
    },
    {
      "cell_type": "markdown",
      "metadata": {
        "id": "w3Uj1o5DBrQt"
      },
      "source": [
        "#### * We see that our neural network was able to get values close to the actual values from the results.\n",
        "#### * This shows that our neural network can handle the complexity of the XOR operator dataset."
      ]
    },
    {
      "cell_type": "markdown",
      "metadata": {
        "id": "kI8SqWf4BrQt"
      },
      "source": [
        "* Let us see the updated weights. These are the weights we will require if we want to make future predictions"
      ]
    },
    {
      "cell_type": "code",
      "execution_count": 72,
      "metadata": {
        "id": "7XfGzF21BrQt",
        "outputId": "de7e60ae-a576-4ebc-f75d-faefc67c6b45",
        "colab": {
          "base_uri": "https://localhost:8080/"
        }
      },
      "outputs": [
        {
          "output_type": "execute_result",
          "data": {
            "text/plain": [
              "array([[-13.10995648,  -1.02903234,   5.91779642],\n",
              "       [  5.91961198,  -1.02889494, -13.10439276]])"
            ]
          },
          "metadata": {},
          "execution_count": 72
        }
      ],
      "source": [
        "weights_0"
      ]
    },
    {
      "cell_type": "code",
      "execution_count": 73,
      "metadata": {
        "id": "OyJJyR2uBrQt",
        "outputId": "3e8dca29-4cf0-48f7-c417-0e45fb0fd751",
        "colab": {
          "base_uri": "https://localhost:8080/"
        }
      },
      "outputs": [
        {
          "output_type": "execute_result",
          "data": {
            "text/plain": [
              "array([[ 15.84622578],\n",
              "       [-41.14828659],\n",
              "       [ 15.84517108]])"
            ]
          },
          "metadata": {},
          "execution_count": 73
        }
      ],
      "source": [
        "weights_1"
      ]
    },
    {
      "cell_type": "code",
      "execution_count": 74,
      "metadata": {
        "id": "enuIOGR9BrQt"
      },
      "outputs": [],
      "source": [
        "# This function accepts an instance of a dataset\n",
        "\n",
        "def calculate_output(instance):\n",
        "    #input to hidden layer\n",
        "    hidden_layer = sigmoid(np.dot(instance, weights_0))\n",
        "    #hidden to output layer\n",
        "    output_layer = sigmoid(np.dot(hidden_layer, weights_1))\n",
        "    return output_layer[0]"
      ]
    },
    {
      "cell_type": "code",
      "execution_count": 75,
      "metadata": {
        "id": "_i-f1Y1KBrQt",
        "outputId": "2855cbf6-721b-4f1f-93bf-98ab6efd45f9",
        "colab": {
          "base_uri": "https://localhost:8080/"
        }
      },
      "outputs": [
        {
          "output_type": "execute_result",
          "data": {
            "text/plain": [
              "0"
            ]
          },
          "metadata": {},
          "execution_count": 75
        }
      ],
      "source": [
        "round(calculate_output(np.array([0, 0])))"
      ]
    },
    {
      "cell_type": "code",
      "execution_count": 76,
      "metadata": {
        "id": "YdRVoSsUBrQt",
        "outputId": "23280ada-6599-434a-c8d9-8aa4d6a72e28",
        "colab": {
          "base_uri": "https://localhost:8080/"
        }
      },
      "outputs": [
        {
          "output_type": "execute_result",
          "data": {
            "text/plain": [
              "1"
            ]
          },
          "metadata": {},
          "execution_count": 76
        }
      ],
      "source": [
        "round(calculate_output(np.array([0, 1])))"
      ]
    },
    {
      "cell_type": "code",
      "execution_count": 77,
      "metadata": {
        "id": "9_PZGjD9BrQt",
        "outputId": "243b021f-76db-4290-8c89-05cd214270e2",
        "colab": {
          "base_uri": "https://localhost:8080/"
        }
      },
      "outputs": [
        {
          "output_type": "execute_result",
          "data": {
            "text/plain": [
              "1"
            ]
          },
          "metadata": {},
          "execution_count": 77
        }
      ],
      "source": [
        "round(calculate_output(np.array([1, 0])))"
      ]
    },
    {
      "cell_type": "code",
      "execution_count": 78,
      "metadata": {
        "id": "8gbYRY9kBrQt",
        "outputId": "451740f9-de5b-4bc0-eb9a-cf851ace54c6",
        "colab": {
          "base_uri": "https://localhost:8080/"
        }
      },
      "outputs": [
        {
          "output_type": "execute_result",
          "data": {
            "text/plain": [
              "0"
            ]
          },
          "metadata": {},
          "execution_count": 78
        }
      ],
      "source": [
        "round(calculate_output(np.array([1, 1])))"
      ]
    },
    {
      "cell_type": "code",
      "execution_count": 79,
      "metadata": {
        "id": "HMivfvLUBrQt",
        "outputId": "e5c6930a-8382-4972-fc01-ea16ac766421",
        "colab": {
          "base_uri": "https://localhost:8080/",
          "height": 487
        }
      },
      "outputs": [
        {
          "output_type": "display_data",
          "data": {
            "text/plain": [
              "<Figure size 800x500 with 1 Axes>"
            ],
            "image/png": "[encoded data removed]"
          },
          "metadata": {}
        }
      ],
      "source": [
        "# @title Doing something sililar with scikit-learn\n",
        "\n",
        "import numpy as np\n",
        "import matplotlib.pyplot as plt\n",
        "from sklearn.neural_network import MLPClassifier\n",
        "from sklearn.preprocessing import StandardScaler\n",
        "\n",
        "# Generate synthetic 1D data\n",
        "X = np.linspace(0, 10, 100).reshape(-1, 1)  # shape: (100, 1)\n",
        "y = (X > 5).astype(int).ravel()  # Class 1 if X > 5, else 0\n",
        "\n",
        "# Standardize the input (important for MLPClassifier)\n",
        "scaler = StandardScaler()\n",
        "X_scaled = scaler.fit_transform(X)\n",
        "\n",
        "# Build the MLP model\n",
        "mlp = MLPClassifier(hidden_layer_sizes=(10, 10),\n",
        "                    activation='relu',\n",
        "                    solver='adam',\n",
        "                    max_iter=1000,\n",
        "                    random_state=42)\n",
        "\n",
        "# Train the model\n",
        "mlp.fit(X_scaled, y)\n",
        "\n",
        "# Predict probabilities\n",
        "y_proba = mlp.predict_proba(X_scaled)[:, 1]  # Probabilities for class 1\n",
        "\n",
        "# Plot the results\n",
        "plt.figure(figsize=(8, 5))\n",
        "plt.scatter(X, y, label='True Labels', color='blue', alpha=0.5)\n",
        "plt.plot(X, y_proba, label='MLP Output', color='red')\n",
        "plt.title('MLPClassifier Output vs Input')\n",
        "plt.xlabel('X')\n",
        "plt.ylabel('Predicted Probability')\n",
        "plt.legend()\n",
        "plt.grid(True)\n",
        "plt.show()\n"
      ]
    }
  ],
  "metadata": {
    "kernelspec": {
      "display_name": "Python 3",
      "language": "python",
      "name": "python3"
    },
    "language_info": {
      "codemirror_mode": {
        "name": "ipython",
        "version": 3
      },
      "file_extension": ".py",
      "mimetype": "text/x-python",
      "name": "python",
      "nbconvert_exporter": "python",
      "pygments_lexer": "ipython3",
      "version": "3.7.6"
    },
    "colab": {
      "provenance": [],
      "include_colab_link": true
    }
  },
  "nbformat": 4,
  "nbformat_minor": 0
}