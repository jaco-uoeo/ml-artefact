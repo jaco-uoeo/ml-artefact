{
  "cells": [
    {
      "cell_type": "markdown",
      "metadata": {
        "id": "view-in-github",
        "colab_type": "text"
      },
      "source": [
        "<a href=\"https://colab.research.google.com/github/jaco-uoeo/ml-artefact/blob/main/Unit07/Ex2%20perceptron_AND_operator.ipynb\" target=\"_parent\"><img src=\"https://colab.research.google.com/assets/colab-badge.svg\" alt=\"Open In Colab\"/></a>"
      ]
    },
    {
      "cell_type": "markdown",
      "metadata": {
        "id": "PqEvM7_3_dSF"
      },
      "source": [
        "### Author: Dr Mike Lakoju, CardiffMet"
      ]
    },
    {
      "cell_type": "markdown",
      "metadata": {
        "id": "LVUMXsoC_dSG"
      },
      "source": [
        "![Screenshot%202021-01-24%20at%202.53.10%20pm.png](attachment:Screenshot%202021-01-24%20at%202.53.10%20pm.png)"
      ]
    },
    {
      "cell_type": "markdown",
      "metadata": {
        "id": "wrtHghWx_dSG"
      },
      "source": [
        "### Import Library"
      ]
    },
    {
      "cell_type": "code",
      "execution_count": 1,
      "metadata": {
        "id": "kc4vWMnR_dSG"
      },
      "outputs": [],
      "source": [
        "import numpy as np"
      ]
    },
    {
      "cell_type": "markdown",
      "metadata": {
        "id": "CD86ZHOS_dSG"
      },
      "source": [
        "### Define \"Inputs, outputs and weights\" as Numpy arrays"
      ]
    },
    {
      "cell_type": "markdown",
      "metadata": {
        "id": "4JsVZT07_dSG"
      },
      "source": [
        "#### Inputs"
      ]
    },
    {
      "cell_type": "code",
      "execution_count": 2,
      "metadata": {
        "id": "eJaSSulA_dSG"
      },
      "outputs": [],
      "source": [
        "# Creating input values as a matrix not as a vector\n",
        "inputs = np.array([[0,0], [0,1], [1,0], [1,1]])"
      ]
    },
    {
      "cell_type": "code",
      "execution_count": 3,
      "metadata": {
        "id": "ucwZyZc__dSG",
        "outputId": "bebf61f2-7ea5-453d-d8fc-0ddf57293038",
        "colab": {
          "base_uri": "https://localhost:8080/"
        }
      },
      "outputs": [
        {
          "output_type": "execute_result",
          "data": {
            "text/plain": [
              "(4, 2)"
            ]
          },
          "metadata": {},
          "execution_count": 3
        }
      ],
      "source": [
        "# Chcking the shape of the inputs\n",
        "\n",
        "inputs.shape"
      ]
    },
    {
      "cell_type": "markdown",
      "metadata": {
        "id": "qJhJ1-y3_dSH"
      },
      "source": [
        "#### Outputs"
      ]
    },
    {
      "cell_type": "code",
      "execution_count": 4,
      "metadata": {
        "id": "B_JqoAtg_dSH"
      },
      "outputs": [],
      "source": [
        "outputs = np.array([0, 0, 0, 1])"
      ]
    },
    {
      "cell_type": "code",
      "execution_count": 5,
      "metadata": {
        "id": "WmxSMySa_dSH",
        "outputId": "f259b43e-7923-418e-c926-29854a45a171",
        "colab": {
          "base_uri": "https://localhost:8080/"
        }
      },
      "outputs": [
        {
          "output_type": "execute_result",
          "data": {
            "text/plain": [
              "(4,)"
            ]
          },
          "metadata": {},
          "execution_count": 5
        }
      ],
      "source": [
        "#Checking the shape of the outputs\n",
        "\n",
        "outputs.shape"
      ]
    },
    {
      "cell_type": "markdown",
      "metadata": {
        "id": "YKOkG9N8_dSH"
      },
      "source": [
        "#### Weights"
      ]
    },
    {
      "cell_type": "code",
      "execution_count": 6,
      "metadata": {
        "id": "XsLyPDay_dSH"
      },
      "outputs": [],
      "source": [
        "# one weight for x1 and one for x2\n",
        "weights = np.array([0.0, 0.0])"
      ]
    },
    {
      "cell_type": "markdown",
      "metadata": {
        "id": "w30ULJ5B_dSH"
      },
      "source": [
        "#### Learning Rate"
      ]
    },
    {
      "cell_type": "code",
      "execution_count": 7,
      "metadata": {
        "id": "qal1gQs4_dSH"
      },
      "outputs": [],
      "source": [
        "learning_rate = 0.1"
      ]
    },
    {
      "cell_type": "markdown",
      "metadata": {
        "id": "nhe9zl1u_dSH"
      },
      "source": [
        "## Step function"
      ]
    },
    {
      "cell_type": "code",
      "execution_count": 8,
      "metadata": {
        "id": "ibTJqiUv_dSH"
      },
      "outputs": [],
      "source": [
        "# This is our Activation function\n",
        "\n",
        "def step_function(sum):\n",
        "  if (sum >= 1):\n",
        "    #print(f'The Sum of Weights is Greater or equal to 1')\n",
        "    return 1\n",
        "  else:\n",
        "        #print(f'The Sum of Weights is NOT > or = to 1')\n",
        "        return 0"
      ]
    },
    {
      "cell_type": "markdown",
      "metadata": {
        "id": "m-RzPU1M_dSH"
      },
      "source": [
        "## Process Output"
      ]
    },
    {
      "cell_type": "markdown",
      "metadata": {
        "id": "gIukGeNM_dSH"
      },
      "source": [
        "<b>We define a function that allows us to calculate/ process the output. The function accepts an instance of our data, then calculate the sum function using Numpy. Finally, we check the output by passing it through the \"Step Function.\"</b>"
      ]
    },
    {
      "cell_type": "code",
      "execution_count": 9,
      "metadata": {
        "id": "frdz-lHS_dSH"
      },
      "outputs": [],
      "source": [
        "def cal_output(instance):\n",
        "  sum_func = instance.dot(weights)\n",
        "  return step_function(sum_func)"
      ]
    },
    {
      "cell_type": "markdown",
      "metadata": {
        "id": "CkSrgkqE_dSH"
      },
      "source": [
        "We pass it as alist in a numpy array ..."
      ]
    },
    {
      "cell_type": "code",
      "execution_count": 10,
      "metadata": {
        "id": "nQWJTrFt_dSH",
        "outputId": "78c7f1fc-26e1-452e-96b0-e83524ea6f66",
        "colab": {
          "base_uri": "https://localhost:8080/"
        }
      },
      "outputs": [
        {
          "output_type": "execute_result",
          "data": {
            "text/plain": [
              "0"
            ]
          },
          "metadata": {},
          "execution_count": 10
        }
      ],
      "source": [
        "cal_output(np.array([[1,1]]))"
      ]
    },
    {
      "cell_type": "markdown",
      "metadata": {
        "id": "maSjy_TV_dSI"
      },
      "source": [
        "## Train"
      ]
    },
    {
      "cell_type": "code",
      "execution_count": 11,
      "metadata": {
        "id": "U23urm_r_dSI",
        "outputId": "4247eb84-d099-4576-d143-801dc17d0467",
        "colab": {
          "base_uri": "https://localhost:8080/"
        }
      },
      "outputs": [
        {
          "output_type": "execute_result",
          "data": {
            "text/plain": [
              "4"
            ]
          },
          "metadata": {},
          "execution_count": 11
        }
      ],
      "source": [
        "# Check the number of outputs\n",
        "\n",
        "len(outputs)"
      ]
    },
    {
      "cell_type": "code",
      "execution_count": 12,
      "metadata": {
        "id": "EXGSa52N_dSI",
        "outputId": "5e36a32e-3bac-4968-e5d9-c27416c83ac5",
        "colab": {
          "base_uri": "https://localhost:8080/"
        }
      },
      "outputs": [
        {
          "output_type": "execute_result",
          "data": {
            "text/plain": [
              "array([1, 1])"
            ]
          },
          "metadata": {},
          "execution_count": 12
        }
      ],
      "source": [
        "# Checking the index of the input at postion 3 ..\n",
        "# this is the last inpute value\n",
        "inputs[3]"
      ]
    },
    {
      "cell_type": "code",
      "execution_count": 13,
      "metadata": {
        "id": "j37uAZdJ_dSI",
        "outputId": "b73624c7-d387-4785-bd71-abb14850e90c",
        "colab": {
          "base_uri": "https://localhost:8080/"
        }
      },
      "outputs": [
        {
          "output_type": "execute_result",
          "data": {
            "text/plain": [
              "array([[0, 0],\n",
              "       [0, 1],\n",
              "       [1, 0],\n",
              "       [1, 1]])"
            ]
          },
          "metadata": {},
          "execution_count": 13
        }
      ],
      "source": [
        "inputs"
      ]
    },
    {
      "cell_type": "markdown",
      "metadata": {
        "id": "-u7IHp7-_dSI"
      },
      "source": [
        "<b>Note that:</b> usually, we will need to define the number of epochs, because we will never really get a value of zero when dealing with real-world data. However, for this small data, we will run the loop till we obtain zero error"
      ]
    },
    {
      "cell_type": "code",
      "execution_count": 14,
      "metadata": {
        "id": "L4hLRbkH_dSI"
      },
      "outputs": [],
      "source": [
        "def train():\n",
        "    #\n",
        "    total_error_value = 1\n",
        "    # While the total_error_value is not equal to zero. we are asumming that at the start of running our network there will be no zero\n",
        "    while (total_error_value != 0):\n",
        "        #making the total_error 0 so we can do other calculations\n",
        "        total_error_value = 0\n",
        "        #Looping into each row of the dataset (remember indexing in python starts at zero hence 0-3 which are 4 values)\n",
        "        for i in range(len(outputs)):\n",
        "            #Calculating predictions\n",
        "            prediction = cal_output(inputs[i])\n",
        "            # Calculating the absolute value of the error\n",
        "            error = abs(outputs[i] - prediction)\n",
        "            #Updating the error\n",
        "            total_error_value  += error\n",
        "\n",
        "            if error > 0:\n",
        "                for j in range(len(weights)):\n",
        "                    #updating the weights for x1 and x2\n",
        "                    weights[j] = weights[j] + (learning_rate * inputs[i][j] * error)\n",
        "                    print('Weight updated to: ' + str(weights[j]))\n",
        "        print('Total error Value: ' + str(total_error_value))"
      ]
    },
    {
      "cell_type": "code",
      "execution_count": 15,
      "metadata": {
        "id": "2nvovJvj_dSI",
        "outputId": "15b48c20-ea8d-4c89-eef6-05c0adbd06fd",
        "colab": {
          "base_uri": "https://localhost:8080/"
        }
      },
      "outputs": [
        {
          "output_type": "stream",
          "name": "stdout",
          "text": [
            "Weight updated to: 0.1\n",
            "Weight updated to: 0.1\n",
            "Total error Value: 1\n",
            "Weight updated to: 0.2\n",
            "Weight updated to: 0.2\n",
            "Total error Value: 1\n",
            "Weight updated to: 0.30000000000000004\n",
            "Weight updated to: 0.30000000000000004\n",
            "Total error Value: 1\n",
            "Weight updated to: 0.4\n",
            "Weight updated to: 0.4\n",
            "Total error Value: 1\n",
            "Weight updated to: 0.5\n",
            "Weight updated to: 0.5\n",
            "Total error Value: 1\n",
            "Total error Value: 0\n"
          ]
        }
      ],
      "source": [
        "train()"
      ]
    },
    {
      "cell_type": "markdown",
      "metadata": {
        "id": "JI_PDMa6_dSI"
      },
      "source": [
        "## Classification"
      ]
    },
    {
      "cell_type": "code",
      "execution_count": 16,
      "metadata": {
        "id": "PKF4ciTh_dSI",
        "outputId": "479d7e7e-b6fe-409b-bd2f-031ccb545a42",
        "colab": {
          "base_uri": "https://localhost:8080/"
        }
      },
      "outputs": [
        {
          "output_type": "execute_result",
          "data": {
            "text/plain": [
              "array([0.5, 0.5])"
            ]
          },
          "metadata": {},
          "execution_count": 16
        }
      ],
      "source": [
        "# Now we have the final weights that will be used to classify new instances of the data after training.\n",
        "\n",
        "weights"
      ]
    },
    {
      "cell_type": "code",
      "execution_count": 17,
      "metadata": {
        "id": "bIGYBHgp_dSI",
        "outputId": "9e8972da-d3f6-4d88-928e-a5476ccd292c",
        "colab": {
          "base_uri": "https://localhost:8080/"
        }
      },
      "outputs": [
        {
          "output_type": "execute_result",
          "data": {
            "text/plain": [
              "0"
            ]
          },
          "metadata": {},
          "execution_count": 17
        }
      ],
      "source": [
        "cal_output(np.array([0,0]))"
      ]
    },
    {
      "cell_type": "code",
      "execution_count": 18,
      "metadata": {
        "id": "_Y2__6PM_dSJ",
        "outputId": "ec5bc324-f71a-46cc-f78e-e390dcdaf145",
        "colab": {
          "base_uri": "https://localhost:8080/"
        }
      },
      "outputs": [
        {
          "output_type": "execute_result",
          "data": {
            "text/plain": [
              "0"
            ]
          },
          "metadata": {},
          "execution_count": 18
        }
      ],
      "source": [
        "cal_output(np.array([0,1]))"
      ]
    },
    {
      "cell_type": "code",
      "execution_count": 19,
      "metadata": {
        "id": "PfOJJU6h_dSJ",
        "outputId": "c1ca0a69-3144-4e7a-f86b-97e34f3a24d6",
        "colab": {
          "base_uri": "https://localhost:8080/"
        }
      },
      "outputs": [
        {
          "output_type": "execute_result",
          "data": {
            "text/plain": [
              "0"
            ]
          },
          "metadata": {},
          "execution_count": 19
        }
      ],
      "source": [
        "cal_output(np.array([1,0]))"
      ]
    },
    {
      "cell_type": "code",
      "execution_count": 21,
      "metadata": {
        "id": "fReENZZu_dSJ",
        "outputId": "b6ecad7d-8654-4fb7-9507-32e609c3a947",
        "colab": {
          "base_uri": "https://localhost:8080/"
        }
      },
      "outputs": [
        {
          "output_type": "execute_result",
          "data": {
            "text/plain": [
              "1"
            ]
          },
          "metadata": {},
          "execution_count": 21
        }
      ],
      "source": [
        "cal_output(np.array([1,1]))"
      ]
    },
    {
      "cell_type": "code",
      "execution_count": 22,
      "metadata": {
        "id": "oNl-lNlJ_dSJ",
        "outputId": "9133bcb3-2f3e-4788-e4cf-5262ebe75feb",
        "colab": {
          "base_uri": "https://localhost:8080/"
        }
      },
      "outputs": [
        {
          "output_type": "stream",
          "name": "stdout",
          "text": [
            "Input: [0 0], Predicted: 0, Expected: 0\n",
            "Input: [0 1], Predicted: 0, Expected: 0\n",
            "Input: [1 0], Predicted: 0, Expected: 0\n",
            "Input: [1 1], Predicted: 1, Expected: 1\n"
          ]
        },
        {
          "output_type": "stream",
          "name": "stderr",
          "text": [
            "/usr/local/lib/python3.11/dist-packages/sklearn/linear_model/_stochastic_gradient.py:738: ConvergenceWarning: Maximum number of iteration reached before convergence. Consider increasing max_iter to improve the fit.\n",
            "  warnings.warn(\n"
          ]
        }
      ],
      "source": [
        "# @title Doing the same with scikit-learn\n",
        "\n",
        "from sklearn.linear_model import Perceptron\n",
        "import numpy as np\n",
        "\n",
        "# define inputs and outputs for the AND logic gate\n",
        "X = np.array([[0, 0], [0, 1], [1, 0], [1, 1]])  # input features\n",
        "y = np.array([0, 0, 0, 1])  # output labels (AND)\n",
        "\n",
        "# create and train the perceptron\n",
        "model = Perceptron(max_iter=10, random_state=0)\n",
        "model.fit(X, y)\n",
        "\n",
        "predictions = model.predict(X)\n",
        "\n",
        "for i in range(len(X)):\n",
        "    print(f\"Input: {X[i]}, Predicted: {predictions[i]}, Expected: {y[i]}\")"
      ]
    }
  ],
  "metadata": {
    "kernelspec": {
      "display_name": "Python 3",
      "language": "python",
      "name": "python3"
    },
    "language_info": {
      "codemirror_mode": {
        "name": "ipython",
        "version": 3
      },
      "file_extension": ".py",
      "mimetype": "text/x-python",
      "name": "python",
      "nbconvert_exporter": "python",
      "pygments_lexer": "ipython3",
      "version": "3.7.6"
    },
    "colab": {
      "provenance": [],
      "include_colab_link": true
    }
  },
  "nbformat": 4,
  "nbformat_minor": 0
}